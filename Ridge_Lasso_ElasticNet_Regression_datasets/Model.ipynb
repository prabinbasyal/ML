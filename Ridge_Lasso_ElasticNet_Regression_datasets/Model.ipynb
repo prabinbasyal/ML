{
 "cells": [
  {
   "cell_type": "markdown",
   "metadata": {},
   "source": [
    "# model building"
   ]
  },
  {
   "cell_type": "code",
   "execution_count": 30,
   "metadata": {},
   "outputs": [],
   "source": [
    "import pandas as pd \n",
    "import numpy as np\n",
    "import matplotlib.pyplot as plt\n",
    "import seaborn as sns\n",
    "%matplotlib inline"
   ]
  },
  {
   "cell_type": "code",
   "execution_count": 31,
   "metadata": {},
   "outputs": [],
   "source": [
    "df = pd.read_csv('Algerian_forest_fires_clean_dataset.csv')"
   ]
  },
  {
   "cell_type": "code",
   "execution_count": 32,
   "metadata": {},
   "outputs": [
    {
     "data": {
      "text/html": [
       "<div>\n",
       "<style scoped>\n",
       "    .dataframe tbody tr th:only-of-type {\n",
       "        vertical-align: middle;\n",
       "    }\n",
       "\n",
       "    .dataframe tbody tr th {\n",
       "        vertical-align: top;\n",
       "    }\n",
       "\n",
       "    .dataframe thead th {\n",
       "        text-align: right;\n",
       "    }\n",
       "</style>\n",
       "<table border=\"1\" class=\"dataframe\">\n",
       "  <thead>\n",
       "    <tr style=\"text-align: right;\">\n",
       "      <th></th>\n",
       "      <th>Unnamed: 0</th>\n",
       "      <th>day</th>\n",
       "      <th>month</th>\n",
       "      <th>year</th>\n",
       "      <th>Temperature</th>\n",
       "      <th>RH</th>\n",
       "      <th>Ws</th>\n",
       "      <th>Rain</th>\n",
       "      <th>FFMC</th>\n",
       "      <th>DMC</th>\n",
       "      <th>DC</th>\n",
       "      <th>ISI</th>\n",
       "      <th>BUI</th>\n",
       "      <th>FWI</th>\n",
       "      <th>Classes</th>\n",
       "      <th>region</th>\n",
       "    </tr>\n",
       "  </thead>\n",
       "  <tbody>\n",
       "    <tr>\n",
       "      <th>0</th>\n",
       "      <td>0</td>\n",
       "      <td>1</td>\n",
       "      <td>6</td>\n",
       "      <td>2012</td>\n",
       "      <td>29</td>\n",
       "      <td>57</td>\n",
       "      <td>18</td>\n",
       "      <td>0.0</td>\n",
       "      <td>65.7</td>\n",
       "      <td>3.4</td>\n",
       "      <td>7.6</td>\n",
       "      <td>1.3</td>\n",
       "      <td>3.4</td>\n",
       "      <td>0.5</td>\n",
       "      <td>not fire</td>\n",
       "      <td>0</td>\n",
       "    </tr>\n",
       "    <tr>\n",
       "      <th>1</th>\n",
       "      <td>1</td>\n",
       "      <td>2</td>\n",
       "      <td>6</td>\n",
       "      <td>2012</td>\n",
       "      <td>29</td>\n",
       "      <td>61</td>\n",
       "      <td>13</td>\n",
       "      <td>1.3</td>\n",
       "      <td>64.4</td>\n",
       "      <td>4.1</td>\n",
       "      <td>7.6</td>\n",
       "      <td>1.0</td>\n",
       "      <td>3.9</td>\n",
       "      <td>0.4</td>\n",
       "      <td>not fire</td>\n",
       "      <td>0</td>\n",
       "    </tr>\n",
       "    <tr>\n",
       "      <th>2</th>\n",
       "      <td>2</td>\n",
       "      <td>3</td>\n",
       "      <td>6</td>\n",
       "      <td>2012</td>\n",
       "      <td>26</td>\n",
       "      <td>82</td>\n",
       "      <td>22</td>\n",
       "      <td>13.1</td>\n",
       "      <td>47.1</td>\n",
       "      <td>2.5</td>\n",
       "      <td>7.1</td>\n",
       "      <td>0.3</td>\n",
       "      <td>2.7</td>\n",
       "      <td>0.1</td>\n",
       "      <td>not fire</td>\n",
       "      <td>0</td>\n",
       "    </tr>\n",
       "    <tr>\n",
       "      <th>3</th>\n",
       "      <td>3</td>\n",
       "      <td>4</td>\n",
       "      <td>6</td>\n",
       "      <td>2012</td>\n",
       "      <td>25</td>\n",
       "      <td>89</td>\n",
       "      <td>13</td>\n",
       "      <td>2.5</td>\n",
       "      <td>28.6</td>\n",
       "      <td>1.3</td>\n",
       "      <td>6.9</td>\n",
       "      <td>0.0</td>\n",
       "      <td>1.7</td>\n",
       "      <td>0.0</td>\n",
       "      <td>not fire</td>\n",
       "      <td>0</td>\n",
       "    </tr>\n",
       "    <tr>\n",
       "      <th>4</th>\n",
       "      <td>4</td>\n",
       "      <td>5</td>\n",
       "      <td>6</td>\n",
       "      <td>2012</td>\n",
       "      <td>27</td>\n",
       "      <td>77</td>\n",
       "      <td>16</td>\n",
       "      <td>0.0</td>\n",
       "      <td>64.8</td>\n",
       "      <td>3.0</td>\n",
       "      <td>14.2</td>\n",
       "      <td>1.2</td>\n",
       "      <td>3.9</td>\n",
       "      <td>0.5</td>\n",
       "      <td>not fire</td>\n",
       "      <td>0</td>\n",
       "    </tr>\n",
       "  </tbody>\n",
       "</table>\n",
       "</div>"
      ],
      "text/plain": [
       "   Unnamed: 0  day  month  year  Temperature  RH  Ws  Rain  FFMC  DMC    DC  \\\n",
       "0           0    1      6  2012           29  57  18   0.0  65.7  3.4   7.6   \n",
       "1           1    2      6  2012           29  61  13   1.3  64.4  4.1   7.6   \n",
       "2           2    3      6  2012           26  82  22  13.1  47.1  2.5   7.1   \n",
       "3           3    4      6  2012           25  89  13   2.5  28.6  1.3   6.9   \n",
       "4           4    5      6  2012           27  77  16   0.0  64.8  3.0  14.2   \n",
       "\n",
       "   ISI  BUI  FWI      Classes  region  \n",
       "0  1.3  3.4  0.5  not fire          0  \n",
       "1  1.0  3.9  0.4  not fire          0  \n",
       "2  0.3  2.7  0.1  not fire          0  \n",
       "3  0.0  1.7  0.0  not fire          0  \n",
       "4  1.2  3.9  0.5  not fire          0  "
      ]
     },
     "execution_count": 32,
     "metadata": {},
     "output_type": "execute_result"
    }
   ],
   "source": [
    "df.head()"
   ]
  },
  {
   "cell_type": "code",
   "execution_count": 34,
   "metadata": {},
   "outputs": [],
   "source": [
    "#drop date\n",
    "df.drop(['Unnamed: 0','day','month','year'],axis =1, inplace=True)"
   ]
  },
  {
   "cell_type": "code",
   "execution_count": 36,
   "metadata": {},
   "outputs": [
    {
     "data": {
      "text/plain": [
       "Classes\n",
       "fire             131\n",
       "not fire         101\n",
       "fire               4\n",
       "fire               2\n",
       "not fire           2\n",
       "not fire           1\n",
       "not fire           1\n",
       "not fire           1\n",
       "Name: count, dtype: int64"
      ]
     },
     "execution_count": 36,
     "metadata": {},
     "output_type": "execute_result"
    }
   ],
   "source": [
    "# see the classes\n",
    "df['Classes'].value_counts()"
   ]
  },
  {
   "cell_type": "code",
   "execution_count": 37,
   "metadata": {},
   "outputs": [],
   "source": [
    "# Encodding the classes\n",
    "df['Classes'] = np.where(df['Classes'].str.contains('not fire'),0,1)"
   ]
  },
  {
   "cell_type": "code",
   "execution_count": 38,
   "metadata": {},
   "outputs": [
    {
     "data": {
      "text/html": [
       "<div>\n",
       "<style scoped>\n",
       "    .dataframe tbody tr th:only-of-type {\n",
       "        vertical-align: middle;\n",
       "    }\n",
       "\n",
       "    .dataframe tbody tr th {\n",
       "        vertical-align: top;\n",
       "    }\n",
       "\n",
       "    .dataframe thead th {\n",
       "        text-align: right;\n",
       "    }\n",
       "</style>\n",
       "<table border=\"1\" class=\"dataframe\">\n",
       "  <thead>\n",
       "    <tr style=\"text-align: right;\">\n",
       "      <th></th>\n",
       "      <th>Temperature</th>\n",
       "      <th>RH</th>\n",
       "      <th>Ws</th>\n",
       "      <th>Rain</th>\n",
       "      <th>FFMC</th>\n",
       "      <th>DMC</th>\n",
       "      <th>DC</th>\n",
       "      <th>ISI</th>\n",
       "      <th>BUI</th>\n",
       "      <th>FWI</th>\n",
       "      <th>Classes</th>\n",
       "      <th>region</th>\n",
       "    </tr>\n",
       "  </thead>\n",
       "  <tbody>\n",
       "    <tr>\n",
       "      <th>0</th>\n",
       "      <td>29</td>\n",
       "      <td>57</td>\n",
       "      <td>18</td>\n",
       "      <td>0.0</td>\n",
       "      <td>65.7</td>\n",
       "      <td>3.4</td>\n",
       "      <td>7.6</td>\n",
       "      <td>1.3</td>\n",
       "      <td>3.4</td>\n",
       "      <td>0.5</td>\n",
       "      <td>0</td>\n",
       "      <td>0</td>\n",
       "    </tr>\n",
       "    <tr>\n",
       "      <th>1</th>\n",
       "      <td>29</td>\n",
       "      <td>61</td>\n",
       "      <td>13</td>\n",
       "      <td>1.3</td>\n",
       "      <td>64.4</td>\n",
       "      <td>4.1</td>\n",
       "      <td>7.6</td>\n",
       "      <td>1.0</td>\n",
       "      <td>3.9</td>\n",
       "      <td>0.4</td>\n",
       "      <td>0</td>\n",
       "      <td>0</td>\n",
       "    </tr>\n",
       "    <tr>\n",
       "      <th>2</th>\n",
       "      <td>26</td>\n",
       "      <td>82</td>\n",
       "      <td>22</td>\n",
       "      <td>13.1</td>\n",
       "      <td>47.1</td>\n",
       "      <td>2.5</td>\n",
       "      <td>7.1</td>\n",
       "      <td>0.3</td>\n",
       "      <td>2.7</td>\n",
       "      <td>0.1</td>\n",
       "      <td>0</td>\n",
       "      <td>0</td>\n",
       "    </tr>\n",
       "    <tr>\n",
       "      <th>3</th>\n",
       "      <td>25</td>\n",
       "      <td>89</td>\n",
       "      <td>13</td>\n",
       "      <td>2.5</td>\n",
       "      <td>28.6</td>\n",
       "      <td>1.3</td>\n",
       "      <td>6.9</td>\n",
       "      <td>0.0</td>\n",
       "      <td>1.7</td>\n",
       "      <td>0.0</td>\n",
       "      <td>0</td>\n",
       "      <td>0</td>\n",
       "    </tr>\n",
       "    <tr>\n",
       "      <th>4</th>\n",
       "      <td>27</td>\n",
       "      <td>77</td>\n",
       "      <td>16</td>\n",
       "      <td>0.0</td>\n",
       "      <td>64.8</td>\n",
       "      <td>3.0</td>\n",
       "      <td>14.2</td>\n",
       "      <td>1.2</td>\n",
       "      <td>3.9</td>\n",
       "      <td>0.5</td>\n",
       "      <td>0</td>\n",
       "      <td>0</td>\n",
       "    </tr>\n",
       "  </tbody>\n",
       "</table>\n",
       "</div>"
      ],
      "text/plain": [
       "   Temperature  RH  Ws  Rain  FFMC  DMC    DC  ISI  BUI  FWI  Classes  region\n",
       "0           29  57  18   0.0  65.7  3.4   7.6  1.3  3.4  0.5        0       0\n",
       "1           29  61  13   1.3  64.4  4.1   7.6  1.0  3.9  0.4        0       0\n",
       "2           26  82  22  13.1  47.1  2.5   7.1  0.3  2.7  0.1        0       0\n",
       "3           25  89  13   2.5  28.6  1.3   6.9  0.0  1.7  0.0        0       0\n",
       "4           27  77  16   0.0  64.8  3.0  14.2  1.2  3.9  0.5        0       0"
      ]
     },
     "execution_count": 38,
     "metadata": {},
     "output_type": "execute_result"
    }
   ],
   "source": [
    "df.head()"
   ]
  },
  {
   "cell_type": "code",
   "execution_count": 39,
   "metadata": {},
   "outputs": [
    {
     "data": {
      "text/plain": [
       "Classes\n",
       "1    137\n",
       "0    106\n",
       "Name: count, dtype: int64"
      ]
     },
     "execution_count": 39,
     "metadata": {},
     "output_type": "execute_result"
    }
   ],
   "source": [
    "df['Classes'].value_counts()"
   ]
  },
  {
   "cell_type": "code",
   "execution_count": 40,
   "metadata": {},
   "outputs": [],
   "source": [
    "#independent and dependent features\n",
    "X = df.drop('FWI', axis=1)\n",
    "y = df['FWI']"
   ]
  },
  {
   "cell_type": "code",
   "execution_count": 43,
   "metadata": {},
   "outputs": [
    {
     "data": {
      "text/html": [
       "<div>\n",
       "<style scoped>\n",
       "    .dataframe tbody tr th:only-of-type {\n",
       "        vertical-align: middle;\n",
       "    }\n",
       "\n",
       "    .dataframe tbody tr th {\n",
       "        vertical-align: top;\n",
       "    }\n",
       "\n",
       "    .dataframe thead th {\n",
       "        text-align: right;\n",
       "    }\n",
       "</style>\n",
       "<table border=\"1\" class=\"dataframe\">\n",
       "  <thead>\n",
       "    <tr style=\"text-align: right;\">\n",
       "      <th></th>\n",
       "      <th>Temperature</th>\n",
       "      <th>RH</th>\n",
       "      <th>Ws</th>\n",
       "      <th>Rain</th>\n",
       "      <th>FFMC</th>\n",
       "      <th>DMC</th>\n",
       "      <th>DC</th>\n",
       "      <th>ISI</th>\n",
       "      <th>BUI</th>\n",
       "      <th>Classes</th>\n",
       "      <th>region</th>\n",
       "    </tr>\n",
       "  </thead>\n",
       "  <tbody>\n",
       "    <tr>\n",
       "      <th>0</th>\n",
       "      <td>29</td>\n",
       "      <td>57</td>\n",
       "      <td>18</td>\n",
       "      <td>0.0</td>\n",
       "      <td>65.7</td>\n",
       "      <td>3.4</td>\n",
       "      <td>7.6</td>\n",
       "      <td>1.3</td>\n",
       "      <td>3.4</td>\n",
       "      <td>0</td>\n",
       "      <td>0</td>\n",
       "    </tr>\n",
       "    <tr>\n",
       "      <th>1</th>\n",
       "      <td>29</td>\n",
       "      <td>61</td>\n",
       "      <td>13</td>\n",
       "      <td>1.3</td>\n",
       "      <td>64.4</td>\n",
       "      <td>4.1</td>\n",
       "      <td>7.6</td>\n",
       "      <td>1.0</td>\n",
       "      <td>3.9</td>\n",
       "      <td>0</td>\n",
       "      <td>0</td>\n",
       "    </tr>\n",
       "    <tr>\n",
       "      <th>2</th>\n",
       "      <td>26</td>\n",
       "      <td>82</td>\n",
       "      <td>22</td>\n",
       "      <td>13.1</td>\n",
       "      <td>47.1</td>\n",
       "      <td>2.5</td>\n",
       "      <td>7.1</td>\n",
       "      <td>0.3</td>\n",
       "      <td>2.7</td>\n",
       "      <td>0</td>\n",
       "      <td>0</td>\n",
       "    </tr>\n",
       "    <tr>\n",
       "      <th>3</th>\n",
       "      <td>25</td>\n",
       "      <td>89</td>\n",
       "      <td>13</td>\n",
       "      <td>2.5</td>\n",
       "      <td>28.6</td>\n",
       "      <td>1.3</td>\n",
       "      <td>6.9</td>\n",
       "      <td>0.0</td>\n",
       "      <td>1.7</td>\n",
       "      <td>0</td>\n",
       "      <td>0</td>\n",
       "    </tr>\n",
       "    <tr>\n",
       "      <th>4</th>\n",
       "      <td>27</td>\n",
       "      <td>77</td>\n",
       "      <td>16</td>\n",
       "      <td>0.0</td>\n",
       "      <td>64.8</td>\n",
       "      <td>3.0</td>\n",
       "      <td>14.2</td>\n",
       "      <td>1.2</td>\n",
       "      <td>3.9</td>\n",
       "      <td>0</td>\n",
       "      <td>0</td>\n",
       "    </tr>\n",
       "    <tr>\n",
       "      <th>...</th>\n",
       "      <td>...</td>\n",
       "      <td>...</td>\n",
       "      <td>...</td>\n",
       "      <td>...</td>\n",
       "      <td>...</td>\n",
       "      <td>...</td>\n",
       "      <td>...</td>\n",
       "      <td>...</td>\n",
       "      <td>...</td>\n",
       "      <td>...</td>\n",
       "      <td>...</td>\n",
       "    </tr>\n",
       "    <tr>\n",
       "      <th>238</th>\n",
       "      <td>30</td>\n",
       "      <td>65</td>\n",
       "      <td>14</td>\n",
       "      <td>0.0</td>\n",
       "      <td>85.4</td>\n",
       "      <td>16.0</td>\n",
       "      <td>44.5</td>\n",
       "      <td>4.5</td>\n",
       "      <td>16.9</td>\n",
       "      <td>1</td>\n",
       "      <td>1</td>\n",
       "    </tr>\n",
       "    <tr>\n",
       "      <th>239</th>\n",
       "      <td>28</td>\n",
       "      <td>87</td>\n",
       "      <td>15</td>\n",
       "      <td>4.4</td>\n",
       "      <td>41.1</td>\n",
       "      <td>6.5</td>\n",
       "      <td>8.0</td>\n",
       "      <td>0.1</td>\n",
       "      <td>6.2</td>\n",
       "      <td>0</td>\n",
       "      <td>1</td>\n",
       "    </tr>\n",
       "    <tr>\n",
       "      <th>240</th>\n",
       "      <td>27</td>\n",
       "      <td>87</td>\n",
       "      <td>29</td>\n",
       "      <td>0.5</td>\n",
       "      <td>45.9</td>\n",
       "      <td>3.5</td>\n",
       "      <td>7.9</td>\n",
       "      <td>0.4</td>\n",
       "      <td>3.4</td>\n",
       "      <td>0</td>\n",
       "      <td>1</td>\n",
       "    </tr>\n",
       "    <tr>\n",
       "      <th>241</th>\n",
       "      <td>24</td>\n",
       "      <td>54</td>\n",
       "      <td>18</td>\n",
       "      <td>0.1</td>\n",
       "      <td>79.7</td>\n",
       "      <td>4.3</td>\n",
       "      <td>15.2</td>\n",
       "      <td>1.7</td>\n",
       "      <td>5.1</td>\n",
       "      <td>0</td>\n",
       "      <td>1</td>\n",
       "    </tr>\n",
       "    <tr>\n",
       "      <th>242</th>\n",
       "      <td>24</td>\n",
       "      <td>64</td>\n",
       "      <td>15</td>\n",
       "      <td>0.2</td>\n",
       "      <td>67.3</td>\n",
       "      <td>3.8</td>\n",
       "      <td>16.5</td>\n",
       "      <td>1.2</td>\n",
       "      <td>4.8</td>\n",
       "      <td>0</td>\n",
       "      <td>1</td>\n",
       "    </tr>\n",
       "  </tbody>\n",
       "</table>\n",
       "<p>243 rows × 11 columns</p>\n",
       "</div>"
      ],
      "text/plain": [
       "     Temperature  RH  Ws  Rain  FFMC   DMC    DC  ISI   BUI  Classes  region\n",
       "0             29  57  18   0.0  65.7   3.4   7.6  1.3   3.4        0       0\n",
       "1             29  61  13   1.3  64.4   4.1   7.6  1.0   3.9        0       0\n",
       "2             26  82  22  13.1  47.1   2.5   7.1  0.3   2.7        0       0\n",
       "3             25  89  13   2.5  28.6   1.3   6.9  0.0   1.7        0       0\n",
       "4             27  77  16   0.0  64.8   3.0  14.2  1.2   3.9        0       0\n",
       "..           ...  ..  ..   ...   ...   ...   ...  ...   ...      ...     ...\n",
       "238           30  65  14   0.0  85.4  16.0  44.5  4.5  16.9        1       1\n",
       "239           28  87  15   4.4  41.1   6.5   8.0  0.1   6.2        0       1\n",
       "240           27  87  29   0.5  45.9   3.5   7.9  0.4   3.4        0       1\n",
       "241           24  54  18   0.1  79.7   4.3  15.2  1.7   5.1        0       1\n",
       "242           24  64  15   0.2  67.3   3.8  16.5  1.2   4.8        0       1\n",
       "\n",
       "[243 rows x 11 columns]"
      ]
     },
     "execution_count": 43,
     "metadata": {},
     "output_type": "execute_result"
    }
   ],
   "source": [
    "X"
   ]
  },
  {
   "cell_type": "code",
   "execution_count": 44,
   "metadata": {},
   "outputs": [],
   "source": [
    "# train test split of dataset\n",
    "from sklearn.model_selection import train_test_split\n",
    "X_train, X_test, y_train, y_test = train_test_split(X,y, test_size=0.25, random_state=42)"
   ]
  },
  {
   "cell_type": "markdown",
   "metadata": {},
   "source": [
    "# Feature Selection based on correlation"
   ]
  },
  {
   "cell_type": "code",
   "execution_count": 46,
   "metadata": {},
   "outputs": [
    {
     "data": {
      "text/html": [
       "<div>\n",
       "<style scoped>\n",
       "    .dataframe tbody tr th:only-of-type {\n",
       "        vertical-align: middle;\n",
       "    }\n",
       "\n",
       "    .dataframe tbody tr th {\n",
       "        vertical-align: top;\n",
       "    }\n",
       "\n",
       "    .dataframe thead th {\n",
       "        text-align: right;\n",
       "    }\n",
       "</style>\n",
       "<table border=\"1\" class=\"dataframe\">\n",
       "  <thead>\n",
       "    <tr style=\"text-align: right;\">\n",
       "      <th></th>\n",
       "      <th>Temperature</th>\n",
       "      <th>RH</th>\n",
       "      <th>Ws</th>\n",
       "      <th>Rain</th>\n",
       "      <th>FFMC</th>\n",
       "      <th>DMC</th>\n",
       "      <th>DC</th>\n",
       "      <th>ISI</th>\n",
       "      <th>BUI</th>\n",
       "      <th>Classes</th>\n",
       "      <th>region</th>\n",
       "    </tr>\n",
       "  </thead>\n",
       "  <tbody>\n",
       "    <tr>\n",
       "      <th>Temperature</th>\n",
       "      <td>1.000000</td>\n",
       "      <td>-0.656095</td>\n",
       "      <td>-0.305977</td>\n",
       "      <td>-0.317512</td>\n",
       "      <td>0.694768</td>\n",
       "      <td>0.498173</td>\n",
       "      <td>0.390684</td>\n",
       "      <td>0.629848</td>\n",
       "      <td>0.473609</td>\n",
       "      <td>0.542141</td>\n",
       "      <td>0.254549</td>\n",
       "    </tr>\n",
       "    <tr>\n",
       "      <th>RH</th>\n",
       "      <td>-0.656095</td>\n",
       "      <td>1.000000</td>\n",
       "      <td>0.225736</td>\n",
       "      <td>0.241656</td>\n",
       "      <td>-0.653023</td>\n",
       "      <td>-0.414601</td>\n",
       "      <td>-0.236078</td>\n",
       "      <td>-0.717804</td>\n",
       "      <td>-0.362317</td>\n",
       "      <td>-0.456876</td>\n",
       "      <td>-0.394665</td>\n",
       "    </tr>\n",
       "    <tr>\n",
       "      <th>Ws</th>\n",
       "      <td>-0.305977</td>\n",
       "      <td>0.225736</td>\n",
       "      <td>1.000000</td>\n",
       "      <td>0.251932</td>\n",
       "      <td>-0.190076</td>\n",
       "      <td>0.000379</td>\n",
       "      <td>0.096576</td>\n",
       "      <td>-0.023558</td>\n",
       "      <td>0.035633</td>\n",
       "      <td>-0.082570</td>\n",
       "      <td>-0.199969</td>\n",
       "    </tr>\n",
       "    <tr>\n",
       "      <th>Rain</th>\n",
       "      <td>-0.317512</td>\n",
       "      <td>0.241656</td>\n",
       "      <td>0.251932</td>\n",
       "      <td>1.000000</td>\n",
       "      <td>-0.545491</td>\n",
       "      <td>-0.289754</td>\n",
       "      <td>-0.302341</td>\n",
       "      <td>-0.345707</td>\n",
       "      <td>-0.300964</td>\n",
       "      <td>-0.369357</td>\n",
       "      <td>-0.059022</td>\n",
       "    </tr>\n",
       "    <tr>\n",
       "      <th>FFMC</th>\n",
       "      <td>0.694768</td>\n",
       "      <td>-0.653023</td>\n",
       "      <td>-0.190076</td>\n",
       "      <td>-0.545491</td>\n",
       "      <td>1.000000</td>\n",
       "      <td>0.620807</td>\n",
       "      <td>0.524101</td>\n",
       "      <td>0.750799</td>\n",
       "      <td>0.607210</td>\n",
       "      <td>0.781259</td>\n",
       "      <td>0.249514</td>\n",
       "    </tr>\n",
       "    <tr>\n",
       "      <th>DMC</th>\n",
       "      <td>0.498173</td>\n",
       "      <td>-0.414601</td>\n",
       "      <td>0.000379</td>\n",
       "      <td>-0.289754</td>\n",
       "      <td>0.620807</td>\n",
       "      <td>1.000000</td>\n",
       "      <td>0.868647</td>\n",
       "      <td>0.685656</td>\n",
       "      <td>0.983175</td>\n",
       "      <td>0.617273</td>\n",
       "      <td>0.212582</td>\n",
       "    </tr>\n",
       "    <tr>\n",
       "      <th>DC</th>\n",
       "      <td>0.390684</td>\n",
       "      <td>-0.236078</td>\n",
       "      <td>0.096576</td>\n",
       "      <td>-0.302341</td>\n",
       "      <td>0.524101</td>\n",
       "      <td>0.868647</td>\n",
       "      <td>1.000000</td>\n",
       "      <td>0.513701</td>\n",
       "      <td>0.942414</td>\n",
       "      <td>0.543581</td>\n",
       "      <td>-0.060838</td>\n",
       "    </tr>\n",
       "    <tr>\n",
       "      <th>ISI</th>\n",
       "      <td>0.629848</td>\n",
       "      <td>-0.717804</td>\n",
       "      <td>-0.023558</td>\n",
       "      <td>-0.345707</td>\n",
       "      <td>0.750799</td>\n",
       "      <td>0.685656</td>\n",
       "      <td>0.513701</td>\n",
       "      <td>1.000000</td>\n",
       "      <td>0.643818</td>\n",
       "      <td>0.742977</td>\n",
       "      <td>0.296441</td>\n",
       "    </tr>\n",
       "    <tr>\n",
       "      <th>BUI</th>\n",
       "      <td>0.473609</td>\n",
       "      <td>-0.362317</td>\n",
       "      <td>0.035633</td>\n",
       "      <td>-0.300964</td>\n",
       "      <td>0.607210</td>\n",
       "      <td>0.983175</td>\n",
       "      <td>0.942414</td>\n",
       "      <td>0.643818</td>\n",
       "      <td>1.000000</td>\n",
       "      <td>0.612239</td>\n",
       "      <td>0.114897</td>\n",
       "    </tr>\n",
       "    <tr>\n",
       "      <th>Classes</th>\n",
       "      <td>0.542141</td>\n",
       "      <td>-0.456876</td>\n",
       "      <td>-0.082570</td>\n",
       "      <td>-0.369357</td>\n",
       "      <td>0.781259</td>\n",
       "      <td>0.617273</td>\n",
       "      <td>0.543581</td>\n",
       "      <td>0.742977</td>\n",
       "      <td>0.612239</td>\n",
       "      <td>1.000000</td>\n",
       "      <td>0.188837</td>\n",
       "    </tr>\n",
       "    <tr>\n",
       "      <th>region</th>\n",
       "      <td>0.254549</td>\n",
       "      <td>-0.394665</td>\n",
       "      <td>-0.199969</td>\n",
       "      <td>-0.059022</td>\n",
       "      <td>0.249514</td>\n",
       "      <td>0.212582</td>\n",
       "      <td>-0.060838</td>\n",
       "      <td>0.296441</td>\n",
       "      <td>0.114897</td>\n",
       "      <td>0.188837</td>\n",
       "      <td>1.000000</td>\n",
       "    </tr>\n",
       "  </tbody>\n",
       "</table>\n",
       "</div>"
      ],
      "text/plain": [
       "             Temperature        RH        Ws      Rain      FFMC       DMC  \\\n",
       "Temperature     1.000000 -0.656095 -0.305977 -0.317512  0.694768  0.498173   \n",
       "RH             -0.656095  1.000000  0.225736  0.241656 -0.653023 -0.414601   \n",
       "Ws             -0.305977  0.225736  1.000000  0.251932 -0.190076  0.000379   \n",
       "Rain           -0.317512  0.241656  0.251932  1.000000 -0.545491 -0.289754   \n",
       "FFMC            0.694768 -0.653023 -0.190076 -0.545491  1.000000  0.620807   \n",
       "DMC             0.498173 -0.414601  0.000379 -0.289754  0.620807  1.000000   \n",
       "DC              0.390684 -0.236078  0.096576 -0.302341  0.524101  0.868647   \n",
       "ISI             0.629848 -0.717804 -0.023558 -0.345707  0.750799  0.685656   \n",
       "BUI             0.473609 -0.362317  0.035633 -0.300964  0.607210  0.983175   \n",
       "Classes         0.542141 -0.456876 -0.082570 -0.369357  0.781259  0.617273   \n",
       "region          0.254549 -0.394665 -0.199969 -0.059022  0.249514  0.212582   \n",
       "\n",
       "                   DC       ISI       BUI   Classes    region  \n",
       "Temperature  0.390684  0.629848  0.473609  0.542141  0.254549  \n",
       "RH          -0.236078 -0.717804 -0.362317 -0.456876 -0.394665  \n",
       "Ws           0.096576 -0.023558  0.035633 -0.082570 -0.199969  \n",
       "Rain        -0.302341 -0.345707 -0.300964 -0.369357 -0.059022  \n",
       "FFMC         0.524101  0.750799  0.607210  0.781259  0.249514  \n",
       "DMC          0.868647  0.685656  0.983175  0.617273  0.212582  \n",
       "DC           1.000000  0.513701  0.942414  0.543581 -0.060838  \n",
       "ISI          0.513701  1.000000  0.643818  0.742977  0.296441  \n",
       "BUI          0.942414  0.643818  1.000000  0.612239  0.114897  \n",
       "Classes      0.543581  0.742977  0.612239  1.000000  0.188837  \n",
       "region      -0.060838  0.296441  0.114897  0.188837  1.000000  "
      ]
     },
     "execution_count": 46,
     "metadata": {},
     "output_type": "execute_result"
    }
   ],
   "source": [
    "X_train.corr()"
   ]
  },
  {
   "cell_type": "code",
   "execution_count": 48,
   "metadata": {},
   "outputs": [
    {
     "data": {
      "text/plain": [
       "<Axes: >"
      ]
     },
     "execution_count": 48,
     "metadata": {},
     "output_type": "execute_result"
    },
    {
     "data": {
      "image/png": "[encoded data removed]",
      "text/plain": [
       "<Figure size 640x480 with 2 Axes>"
      ]
     },
     "metadata": {},
     "output_type": "display_data"
    }
   ],
   "source": [
    "# to check the multicollinearity\n",
    "plt.Figure(figsize= (12,12))\n",
    "cor = X_train.corr()\n",
    "sns.heatmap(cor,annot=True)"
   ]
  },
  {
   "cell_type": "code",
   "execution_count": 52,
   "metadata": {},
   "outputs": [],
   "source": [
    "# now remove the multicollinearity\n",
    "def correlation(dataset,threshold):\n",
    "    correlation_columns = set()\n",
    "    corr_matrix = dataset.corr()\n",
    "    for i in range(len(corr_matrix.columns)):\n",
    "        for j in range(i):\n",
    "            if abs(corr_matrix.iloc[i,j])>threshold:\n",
    "                column_name = corr_matrix.columns[i]\n",
    "                correlation_columns.add(column_name)\n",
    "    \n",
    "    return correlation_columns"
   ]
  },
  {
   "cell_type": "code",
   "execution_count": 53,
   "metadata": {},
   "outputs": [],
   "source": [
    "# set threshold :- normally threshold set by Domain Expertise\n",
    "feature = correlation(X_train, 0.80)"
   ]
  },
  {
   "cell_type": "code",
   "execution_count": 54,
   "metadata": {},
   "outputs": [
    {
     "data": {
      "text/plain": [
       "{'BUI', 'DC'}"
      ]
     },
     "execution_count": 54,
     "metadata": {},
     "output_type": "execute_result"
    }
   ],
   "source": [
    "feature"
   ]
  },
  {
   "cell_type": "code",
   "execution_count": 63,
   "metadata": {},
   "outputs": [
    {
     "data": {
      "text/plain": [
       "((182, 9), (61,))"
      ]
     },
     "execution_count": 63,
     "metadata": {},
     "output_type": "execute_result"
    }
   ],
   "source": [
    "# remove feature when correlation is more thain 0.80\n",
    "X_train.drop(feature,axis= 1, inplace=True)\n",
    "X_test.drop(feature,axis= 1, inplace=True)\n",
    "X_train.shape,y_test.shape"
   ]
  },
  {
   "cell_type": "markdown",
   "metadata": {},
   "source": [
    "# Feature scaling and Standarization"
   ]
  },
  {
   "cell_type": "code",
   "execution_count": 64,
   "metadata": {},
   "outputs": [
    {
     "data": {
      "text/plain": [
       "array([[-0.84284248,  0.78307967,  1.29972026, ..., -0.62963326,\n",
       "        -1.10431526, -0.98907071],\n",
       "       [-0.30175842,  0.64950844, -0.59874754, ..., -0.93058524,\n",
       "        -1.10431526,  1.01105006],\n",
       "       [ 2.13311985, -2.08870172, -0.21905398, ...,  2.7271388 ,\n",
       "         0.90553851,  1.01105006],\n",
       "       ...,\n",
       "       [-1.9250106 ,  0.9166509 ,  0.54033314, ..., -1.06948615,\n",
       "        -1.10431526, -0.98907071],\n",
       "       [ 0.50986767, -0.21870454,  0.16063958, ...,  0.5973248 ,\n",
       "         0.90553851,  1.01105006],\n",
       "       [-0.57230045,  0.98343651,  2.05910739, ..., -0.86113478,\n",
       "        -1.10431526, -0.98907071]], shape=(182, 9))"
      ]
     },
     "execution_count": 64,
     "metadata": {},
     "output_type": "execute_result"
    }
   ],
   "source": [
    "from sklearn.preprocessing import StandardScaler\n",
    "scaler = StandardScaler()\n",
    "X_train_scale = scaler.fit_transform(X_train)\n",
    "X_test_scale = scaler.transform(X_test)\n",
    "X_train_scale"
   ]
  },
  {
   "cell_type": "code",
   "execution_count": 66,
   "metadata": {},
   "outputs": [
    {
     "data": {
      "text/plain": [
       "Text(0.5, 1.0, 'X_train After Scaling')"
      ]
     },
     "execution_count": 66,
     "metadata": {},
     "output_type": "execute_result"
    },
    {
     "data": {
      "image/png": "[encoded data removed]",
      "text/plain": [
       "<Figure size 1500x500 with 3 Axes>"
      ]
     },
     "metadata": {},
     "output_type": "display_data"
    }
   ],
   "source": [
    "# lets visualize before and after scaler\n",
    "plt.subplots(figsize=(15, 5))\n",
    "plt.subplot(1, 2, 1)\n",
    "sns.boxplot(data=X_train)\n",
    "plt.title('X_train Before Scaling')\n",
    "plt.subplot(1, 2, 2)\n",
    "sns.boxplot(data=X_train_scale)\n",
    "plt.title('X_train After Scaling')"
   ]
  },
  {
   "cell_type": "markdown",
   "metadata": {},
   "source": [
    "# Linear Regression model"
   ]
  },
  {
   "cell_type": "code",
   "execution_count": 70,
   "metadata": {},
   "outputs": [
    {
     "name": "stdout",
     "output_type": "stream",
     "text": [
      "MAE :  0.5468236465249978\n",
      "R2 score :  0.9847657384266951\n"
     ]
    },
    {
     "data": {
      "text/plain": [
       "<matplotlib.collections.PathCollection at 0x236a3b28d70>"
      ]
     },
     "execution_count": 70,
     "metadata": {},
     "output_type": "execute_result"
    },
    {
     "data": {
      "image/png": "[encoded data removed]",
      "text/plain": [
       "<Figure size 640x480 with 1 Axes>"
      ]
     },
     "metadata": {},
     "output_type": "display_data"
    }
   ],
   "source": [
    "from sklearn.metrics import mean_absolute_error, r2_score\n",
    "from sklearn.linear_model import LinearRegression\n",
    "reg = LinearRegression()\n",
    "reg.fit(X_train_scale,y_train)\n",
    "y_pred = reg.predict(X_test_scale)\n",
    "mae = mean_absolute_error(y_test, y_pred)\n",
    "score = r2_score(y_test,y_pred)\n",
    "print('MAE : ',mae)\n",
    "print(\"R2 score : \",score)\n",
    "plt.scatter(y_test,y_pred)\n"
   ]
  },
  {
   "cell_type": "markdown",
   "metadata": {},
   "source": [
    "# Ridge Regresion Model"
   ]
  },
  {
   "cell_type": "code",
   "execution_count": 71,
   "metadata": {},
   "outputs": [],
   "source": [
    "from sklearn.linear_model import Ridge"
   ]
  },
  {
   "cell_type": "code",
   "execution_count": 72,
   "metadata": {},
   "outputs": [
    {
     "name": "stdout",
     "output_type": "stream",
     "text": [
      "MAE :  0.5642305340105715\n",
      "R2 score :  0.9842993364555512\n"
     ]
    },
    {
     "data": {
      "text/plain": [
       "<matplotlib.collections.PathCollection at 0x236abe5da90>"
      ]
     },
     "execution_count": 72,
     "metadata": {},
     "output_type": "execute_result"
    },
    {
     "data": {
      "image/png": "[encoded data removed]",
      "text/plain": [
       "<Figure size 640x480 with 1 Axes>"
      ]
     },
     "metadata": {},
     "output_type": "display_data"
    }
   ],
   "source": [
    "ridge = Ridge()\n",
    "ridge.fit(X_train_scale,y_train)\n",
    "y_pred = ridge.predict(X_test_scale)\n",
    "mae = mean_absolute_error(y_test, y_pred)\n",
    "score = r2_score(y_test,y_pred)\n",
    "print('MAE : ',mae)\n",
    "print(\"R2 score : \",score)\n",
    "plt.scatter(y_test,y_pred)"
   ]
  },
  {
   "cell_type": "markdown",
   "metadata": {},
   "source": [
    "# Lasso Regression model"
   ]
  },
  {
   "cell_type": "code",
   "execution_count": 76,
   "metadata": {},
   "outputs": [
    {
     "name": "stdout",
     "output_type": "stream",
     "text": [
      "MAE :  1.133175994914409\n",
      "R2 score :  0.9492020263112388\n"
     ]
    },
    {
     "data": {
      "text/plain": [
       "<matplotlib.collections.PathCollection at 0x236ae9d1f90>"
      ]
     },
     "execution_count": 76,
     "metadata": {},
     "output_type": "execute_result"
    },
    {
     "data": {
      "image/png": "[encoded data removed]",
      "text/plain": [
       "<Figure size 640x480 with 1 Axes>"
      ]
     },
     "metadata": {},
     "output_type": "display_data"
    }
   ],
   "source": [
    "\n",
    "from sklearn.linear_model import Lasso\n",
    "lasso = Lasso()\n",
    "lasso.fit(X_train_scale,y_train)\n",
    "y_pred = lasso.predict(X_test_scale)\n",
    "mae = mean_absolute_error(y_test, y_pred)\n",
    "score = r2_score(y_test,y_pred)\n",
    "print('MAE : ',mae)\n",
    "print(\"R2 score : \",score)\n",
    "plt.scatter(y_test,y_pred)"
   ]
  },
  {
   "cell_type": "markdown",
   "metadata": {},
   "source": [
    "# ElasticNet Regression model"
   ]
  },
  {
   "cell_type": "code",
   "execution_count": 77,
   "metadata": {},
   "outputs": [
    {
     "name": "stdout",
     "output_type": "stream",
     "text": [
      "MAE :  1.8822353634896005\n",
      "R2 score :  0.8753460589519703\n"
     ]
    },
    {
     "data": {
      "text/plain": [
       "<matplotlib.collections.PathCollection at 0x236aea5c2d0>"
      ]
     },
     "execution_count": 77,
     "metadata": {},
     "output_type": "execute_result"
    },
    {
     "data": {
      "image/png": "[encoded data removed]",
      "text/plain": [
       "<Figure size 640x480 with 1 Axes>"
      ]
     },
     "metadata": {},
     "output_type": "display_data"
    }
   ],
   "source": [
    "from sklearn.linear_model import ElasticNet\n",
    "elasticnet = ElasticNet()\n",
    "elasticnet.fit(X_train_scale,y_train)\n",
    "y_pred = elasticnet.predict(X_test_scale)\n",
    "mae = mean_absolute_error(y_test, y_pred)\n",
    "score = r2_score(y_test,y_pred)\n",
    "print('MAE : ',mae)\n",
    "print(\"R2 score : \",score)\n",
    "plt.scatter(y_test,y_pred)"
   ]
  },
  {
   "cell_type": "markdown",
   "metadata": {},
   "source": [
    "# Hyperparameter tunning (CV)"
   ]
  },
  {
   "cell_type": "code",
   "execution_count": 91,
   "metadata": {},
   "outputs": [
    {
     "name": "stdout",
     "output_type": "stream",
     "text": [
      "Optimal alpha: 0.05725391318234408\n"
     ]
    }
   ],
   "source": [
    "from sklearn.linear_model import LassoCV\n",
    "# Initialize LassoCV with 5-fold cross-validation\n",
    "lassocv = LassoCV(cv=5)\n",
    "lassocv.fit(X_train_scale, y_train)\n",
    "y_pred = lassocv.predict(X_test_scale)\n",
    "optimal_alpha = lassocv.alpha_\n",
    "print(\"Optimal alpha:\", optimal_alpha)"
   ]
  },
  {
   "cell_type": "code",
   "execution_count": 82,
   "metadata": {},
   "outputs": [
    {
     "data": {
      "text/plain": [
       "array([19.51523263, 18.19997126, 16.97335411, 15.82940685, 14.76255781,\n",
       "       13.76761082, 12.83971993, 11.97436578, 11.1673336 , 10.41469269,\n",
       "        9.71277726,  9.05816858,  8.44767834,  7.87833309,  7.34735981,\n",
       "        6.85217235,  6.39035887,  5.95967007,  5.55800825,  5.1834171 ,\n",
       "        4.83407213,  4.50827185,  4.20442942,  3.92106494,  3.65679829,\n",
       "        3.41034232,  3.18049667,  2.96614184,  2.7662338 ,  2.5797989 ,\n",
       "        2.40592909,  2.24377752,  2.09255443,  1.95152326,  1.81999713,\n",
       "        1.69733541,  1.58294069,  1.47625578,  1.37676108,  1.28397199,\n",
       "        1.19743658,  1.11673336,  1.04146927,  0.97127773,  0.90581686,\n",
       "        0.84476783,  0.78783331,  0.73473598,  0.68521723,  0.63903589,\n",
       "        0.59596701,  0.55580082,  0.51834171,  0.48340721,  0.45082718,\n",
       "        0.42044294,  0.39210649,  0.36567983,  0.34103423,  0.31804967,\n",
       "        0.29661418,  0.27662338,  0.25797989,  0.24059291,  0.22437775,\n",
       "        0.20925544,  0.19515233,  0.18199971,  0.16973354,  0.15829407,\n",
       "        0.14762558,  0.13767611,  0.1283972 ,  0.11974366,  0.11167334,\n",
       "        0.10414693,  0.09712777,  0.09058169,  0.08447678,  0.07878333,\n",
       "        0.0734736 ,  0.06852172,  0.06390359,  0.0595967 ,  0.05558008,\n",
       "        0.05183417,  0.04834072,  0.04508272,  0.04204429,  0.03921065,\n",
       "        0.03656798,  0.03410342,  0.03180497,  0.02966142,  0.02766234,\n",
       "        0.02579799,  0.02405929,  0.02243778,  0.02092554,  0.01951523])"
      ]
     },
     "execution_count": 82,
     "metadata": {},
     "output_type": "execute_result"
    }
   ],
   "source": [
    "# to see all the alpha value\n",
    "lassocv.alphas_"
   ]
  },
  {
   "cell_type": "code",
   "execution_count": 84,
   "metadata": {},
   "outputs": [
    {
     "data": {
      "text/plain": [
       "array([[6.71122892e+01, 5.50101812e+01, 7.28091178e+01, 8.46074674e+01,\n",
       "        7.12522325e+01],\n",
       "       [6.17167617e+01, 5.12391651e+01, 7.07140110e+01, 7.98699676e+01,\n",
       "        6.55803457e+01],\n",
       "       [5.70244609e+01, 4.70392068e+01, 6.32667311e+01, 7.46652567e+01,\n",
       "        5.98423001e+01],\n",
       "       [5.15614281e+01, 4.33450791e+01, 5.67294288e+01, 6.89266487e+01,\n",
       "        5.49146213e+01],\n",
       "       [4.62177523e+01, 4.00914165e+01, 5.07273447e+01, 6.35853224e+01,\n",
       "        5.05804497e+01],\n",
       "       [4.14844998e+01, 3.72213329e+01, 4.54530374e+01, 5.88906000e+01,\n",
       "        4.67555023e+01],\n",
       "       [3.73028673e+01, 3.42508649e+01, 4.08117838e+01, 5.47584510e+01,\n",
       "        4.25272676e+01],\n",
       "       [3.36022011e+01, 3.08358993e+01, 3.67214143e+01, 5.11156833e+01,\n",
       "        3.83851693e+01],\n",
       "       [3.03214611e+01, 2.78097867e+01, 3.31106321e+01, 4.73364115e+01,\n",
       "        3.46971099e+01],\n",
       "       [2.74071363e+01, 2.51230705e+01, 2.99173461e+01, 4.28008373e+01,\n",
       "        3.14706110e+01],\n",
       "       [2.48135382e+01, 2.27336649e+01, 2.70879883e+01, 3.87637164e+01,\n",
       "        2.86455792e+01],\n",
       "       [2.25009040e+01, 2.06049670e+01, 2.45761574e+01, 3.51625942e+01,\n",
       "        2.60984239e+01],\n",
       "       [2.04350610e+01, 1.87052999e+01, 2.23414047e+01, 3.19437129e+01,\n",
       "        2.37969414e+01],\n",
       "       [1.85857597e+01, 1.70074051e+01, 2.03490437e+01, 2.90598407e+01,\n",
       "        2.17131580e+01],\n",
       "       [1.69275594e+01, 1.54872255e+01, 1.85690003e+01, 2.64709605e+01,\n",
       "        1.98233682e+01],\n",
       "       [1.54382223e+01, 1.41244128e+01, 1.69753561e+01, 2.41422495e+01,\n",
       "        1.81070822e+01],\n",
       "       [1.40987157e+01, 1.29013525e+01, 1.55456071e+01, 2.20438927e+01,\n",
       "        1.65467313e+01],\n",
       "       [1.28919529e+01, 1.18022070e+01, 1.42605184e+01, 2.01493879e+01,\n",
       "        1.51269130e+01],\n",
       "       [1.18037826e+01, 1.08138001e+01, 1.31034532e+01, 1.84366346e+01,\n",
       "        1.38345325e+01],\n",
       "       [1.08216979e+01, 9.92445145e+00, 1.20599446e+01, 1.68862581e+01,\n",
       "        1.26580922e+01],\n",
       "       [9.93481735e+00, 9.12395626e+00, 1.11178635e+01, 1.54816270e+01,\n",
       "        1.15875072e+01],\n",
       "       [9.13364157e+00, 8.40336430e+00, 1.02664167e+01, 1.42078297e+01,\n",
       "        1.06138596e+01],\n",
       "       [8.40984101e+00, 7.75479013e+00, 9.49634297e+00, 1.30524106e+01,\n",
       "        9.72919130e+00],\n",
       "       [7.75607365e+00, 7.17125095e+00, 8.79958653e+00, 1.20042766e+01,\n",
       "        8.92633049e+00],\n",
       "       [7.16582931e+00, 6.64652953e+00, 8.16920107e+00, 1.10536666e+01,\n",
       "        8.19875120e+00],\n",
       "       [6.63329841e+00, 6.17505964e+00, 7.59876480e+00, 1.01919343e+01,\n",
       "        7.54046100e+00],\n",
       "       [6.15326275e+00, 5.75183124e+00, 7.08291472e+00, 9.41135856e+00,\n",
       "        6.94591407e+00],\n",
       "       [5.72100588e+00, 5.37231297e+00, 6.61675727e+00, 8.70500383e+00,\n",
       "        6.40994606e+00],\n",
       "       [5.33224025e+00, 4.99291053e+00, 6.19589395e+00, 8.05973552e+00,\n",
       "        5.87764430e+00],\n",
       "       [4.93077689e+00, 4.61256688e+00, 5.77109670e+00, 7.38478773e+00,\n",
       "        5.37165934e+00],\n",
       "       [4.50503036e+00, 4.27245794e+00, 5.32666766e+00, 6.77316790e+00,\n",
       "        4.91583258e+00],\n",
       "       [4.09856127e+00, 3.93626570e+00, 4.87908460e+00, 6.21873535e+00,\n",
       "        4.47939542e+00],\n",
       "       [3.73062770e+00, 3.63036363e+00, 4.47195363e+00, 5.71604909e+00,\n",
       "        4.06355030e+00],\n",
       "       [3.39212408e+00, 3.33901550e+00, 4.10187881e+00, 5.24871460e+00,\n",
       "        3.68478054e+00],\n",
       "       [3.06631783e+00, 3.07012961e+00, 3.76587222e+00, 4.81954223e+00,\n",
       "        3.33950537e+00],\n",
       "       [2.76960868e+00, 2.77851829e+00, 3.46119595e+00, 4.42654423e+00,\n",
       "        3.02460617e+00],\n",
       "       [2.49955766e+00, 2.51273608e+00, 3.18530594e+00, 4.04174307e+00,\n",
       "        2.73731930e+00],\n",
       "       [2.25390058e+00, 2.27040967e+00, 2.88290119e+00, 3.66021084e+00,\n",
       "        2.47519331e+00],\n",
       "       [2.03057913e+00, 2.04945442e+00, 2.60519818e+00, 3.31202157e+00,\n",
       "        2.23604977e+00],\n",
       "       [1.82771720e+00, 1.84801116e+00, 2.35085774e+00, 2.99423406e+00,\n",
       "        2.01794714e+00],\n",
       "       [1.64360123e+00, 1.66458241e+00, 2.11824243e+00, 2.70423918e+00,\n",
       "        1.81914803e+00],\n",
       "       [1.47666315e+00, 1.49764045e+00, 1.90584022e+00, 2.43972242e+00,\n",
       "        1.63808959e+00],\n",
       "       [1.32546521e+00, 1.34588352e+00, 1.71224346e+00, 2.19861564e+00,\n",
       "        1.47335738e+00],\n",
       "       [1.18868646e+00, 1.20812461e+00, 1.53613162e+00, 1.97905598e+00,\n",
       "        1.32366253e+00],\n",
       "       [1.06511057e+00, 1.08327207e+00, 1.37625783e+00, 1.77935142e+00,\n",
       "        1.18782256e+00],\n",
       "       [9.53615269e-01, 9.70313226e-01, 1.23143867e+00, 1.59795243e+00,\n",
       "        1.06474541e+00],\n",
       "       [8.53163064e-01, 8.68302271e-01, 1.10054707e+00, 1.43342923e+00,\n",
       "        9.53416884e-01],\n",
       "       [7.62793571e-01, 7.76351844e-01, 9.82507849e-01, 1.28445412e+00,\n",
       "        8.52890868e-01],\n",
       "       [6.81617053e-01, 6.93627486e-01, 8.76295442e-01, 1.14978826e+00,\n",
       "        7.62282126e-01],\n",
       "       [6.08809102e-01, 6.19344235e-01, 7.80933286e-01, 1.02827197e+00,\n",
       "        6.80761076e-01],\n",
       "       [5.43606203e-01, 5.52764607e-01, 6.95494310e-01, 9.18817916e-01,\n",
       "        6.07550098e-01],\n",
       "       [4.85301957e-01, 4.93197383e-01, 6.19101947e-01, 8.20406251e-01,\n",
       "        5.41920938e-01],\n",
       "       [4.33243792e-01, 4.39996753e-01, 5.50931229e-01, 7.32081238e-01,\n",
       "        4.83192796e-01],\n",
       "       [3.86829987e-01, 3.92561506e-01, 4.90209612e-01, 6.52948714e-01,\n",
       "        4.30730813e-01],\n",
       "       [3.44858686e-01, 3.50254421e-01, 4.35267569e-01, 5.81811501e-01,\n",
       "        3.82532350e-01],\n",
       "       [3.05903977e-01, 3.10165165e-01, 3.85399507e-01, 5.16483783e-01,\n",
       "        3.38989427e-01],\n",
       "       [2.71216464e-01, 2.74533527e-01, 3.41112897e-01, 4.58101520e-01,\n",
       "        3.00282297e-01],\n",
       "       [2.40368100e-01, 2.42904940e-01, 3.01718076e-01, 4.06006950e-01,\n",
       "        2.65797198e-01],\n",
       "       [2.12967071e-01, 2.14866143e-01, 2.66795493e-01, 3.59590832e-01,\n",
       "        2.35168832e-01],\n",
       "       [1.88656708e-01, 1.90040307e-01, 2.35811389e-01, 3.18295468e-01,\n",
       "        2.08027763e-01],\n",
       "       [1.67115075e-01, 1.68084887e-01, 2.08346803e-01, 2.81419090e-01,\n",
       "        1.84012084e-01],\n",
       "       [1.47826496e-01, 1.48697206e-01, 1.84022569e-01, 2.48509225e-01,\n",
       "        1.62673028e-01],\n",
       "       [1.30511150e-01, 1.31143145e-01, 1.62560264e-01, 2.19367255e-01,\n",
       "        1.43780021e-01],\n",
       "       [1.15214514e-01, 1.15511106e-01, 1.43510663e-01, 1.93541570e-01,\n",
       "        1.27057670e-01],\n",
       "       [1.01723836e-01, 1.01749719e-01, 1.26675921e-01, 1.70674879e-01,\n",
       "        1.12263143e-01],\n",
       "       [8.97433772e-02, 8.96085487e-02, 1.11799871e-01, 1.50523871e-01,\n",
       "        9.91790127e-02],\n",
       "       [7.91557138e-02, 7.89009888e-02, 9.86587879e-02, 1.32625279e-01,\n",
       "        8.76106727e-02],\n",
       "       [6.97976756e-02, 6.94607332e-02, 8.70528382e-02, 1.16818038e-01,\n",
       "        7.73843493e-02],\n",
       "       [6.15289373e-02, 6.11395771e-02, 7.68040328e-02, 1.02857619e-01,\n",
       "        6.83452328e-02],\n",
       "       [5.42245171e-02, 5.38449989e-02, 6.77542122e-02, 9.05342685e-02,\n",
       "        6.03557113e-02],\n",
       "       [4.77733317e-02, 4.73688126e-02, 5.97631345e-02, 7.96606172e-02,\n",
       "        5.32937105e-02],\n",
       "       [4.21439440e-02, 4.16744264e-02, 5.27066797e-02, 7.01826898e-02,\n",
       "        4.70511397e-02],\n",
       "       [3.71018603e-02, 3.66572277e-02, 4.65486406e-02, 6.17077524e-02,\n",
       "        4.15324428e-02],\n",
       "       [3.26581217e-02, 3.22366915e-02, 4.10320387e-02, 5.42460112e-02,\n",
       "        3.67197432e-02],\n",
       "       [2.87367589e-02, 2.83422485e-02, 3.61670471e-02, 4.76713089e-02,\n",
       "        3.23945469e-02],\n",
       "       [2.52766931e-02, 2.49115817e-02, 3.18703957e-02, 4.18791223e-02,\n",
       "        2.85758467e-02],\n",
       "       [2.22245137e-02, 2.18898003e-02, 2.80754303e-02, 3.67779463e-02,\n",
       "        2.51999745e-02],\n",
       "       [1.95329410e-02, 1.92285617e-02, 2.47238546e-02, 3.22867383e-02,\n",
       "        2.22149135e-02],\n",
       "       [1.72211175e-02, 1.69334195e-02, 2.17642322e-02, 2.83338290e-02,\n",
       "        1.95757409e-02],\n",
       "       [1.51208745e-02, 1.48614279e-02, 1.91512088e-02, 2.48558676e-02,\n",
       "        1.72428103e-02],\n",
       "       [1.32724107e-02, 1.30416163e-02, 1.68447635e-02, 2.17968648e-02,\n",
       "        1.51810990e-02],\n",
       "       [1.16462748e-02, 1.14418483e-02, 1.48095499e-02, 1.91073419e-02,\n",
       "        1.33596468e-02],\n",
       "       [1.02150508e-02, 1.00345866e-02, 1.30665798e-02, 1.68101301e-02,\n",
       "        1.18037190e-02],\n",
       "       [8.95585425e-03, 8.79705667e-03, 1.14780489e-02, 1.47273988e-02,\n",
       "        1.03796066e-02],\n",
       "       [7.84857042e-03, 7.70924195e-03, 1.00778566e-02, 1.28962750e-02,\n",
       "        9.12113161e-03],\n",
       "       [6.87536097e-03, 6.75342079e-03, 8.84517318e-03, 1.12900092e-02,\n",
       "        8.01221731e-03],\n",
       "       [6.02041955e-03, 5.94976090e-03, 7.75973321e-03, 9.88059045e-03,\n",
       "        7.03483774e-03],\n",
       "       [5.30457310e-03, 5.21081565e-03, 6.80438201e-03, 8.64421171e-03,\n",
       "        6.17366427e-03],\n",
       "       [4.64423023e-03, 4.55942344e-03, 5.96399388e-03, 7.56008267e-03,\n",
       "        5.41530502e-03],\n",
       "       [4.06146962e-03, 3.98879999e-03, 5.26274269e-03, 6.60985027e-03,\n",
       "        4.78542367e-03],\n",
       "       [3.55122329e-03, 3.48874469e-03, 4.61316027e-03, 5.81780239e-03,\n",
       "        4.19952114e-03],\n",
       "       [3.10439059e-03, 3.05043138e-03, 4.03853539e-03, 5.08889097e-03,\n",
       "        3.67907303e-03],\n",
       "       [2.71298243e-03, 2.69396781e-03, 3.53432352e-03, 4.44543907e-03,\n",
       "        3.22166596e-03],\n",
       "       [2.37021103e-03, 2.33297058e-03, 3.09208222e-03, 3.88237747e-03,\n",
       "        2.82022195e-03],\n",
       "       [2.09236396e-03, 2.05663048e-03, 2.70423255e-03, 3.39004626e-03,\n",
       "        2.49860555e-03],\n",
       "       [1.83155812e-03, 1.80044466e-03, 2.39182741e-03, 2.95950329e-03,\n",
       "        2.16423356e-03],\n",
       "       [1.59903252e-03, 1.57265085e-03, 2.09672289e-03, 2.61206998e-03,\n",
       "        1.91234460e-03],\n",
       "       [1.39526421e-03, 1.37281634e-03, 1.83293016e-03, 2.28615487e-03,\n",
       "        1.67746686e-03],\n",
       "       [1.21736937e-03, 1.21865196e-03, 1.60113952e-03, 1.99555737e-03,\n",
       "        1.46729058e-03],\n",
       "       [1.06205827e-03, 1.05012726e-03, 1.39830625e-03, 1.74060908e-03,\n",
       "        1.28211873e-03]])"
      ]
     },
     "execution_count": 84,
     "metadata": {},
     "output_type": "execute_result"
    }
   ],
   "source": [
    "lassocv.mse_path_"
   ]
  },
  {
   "cell_type": "code",
   "execution_count": 94,
   "metadata": {},
   "outputs": [
    {
     "name": "stdout",
     "output_type": "stream",
     "text": [
      "MAE :  0.619970115826343\n",
      "R2 score :  0.9820946715928275\n"
     ]
    },
    {
     "data": {
      "text/plain": [
       "<matplotlib.collections.PathCollection at 0x236af117390>"
      ]
     },
     "execution_count": 94,
     "metadata": {},
     "output_type": "execute_result"
    },
    {
     "data": {
      "image/png": "[encoded data removed]",
      "text/plain": [
       "<Figure size 640x480 with 1 Axes>"
      ]
     },
     "metadata": {},
     "output_type": "display_data"
    }
   ],
   "source": [
    "# plot\n",
    "mae = mean_absolute_error(y_test, y_pred)\n",
    "score = r2_score(y_test,y_pred)\n",
    "print('MAE : ',mae)\n",
    "print(\"R2 score : \",score)\n",
    "plt.scatter(y_test,y_pred)"
   ]
  },
  {
   "cell_type": "code",
   "execution_count": 103,
   "metadata": {},
   "outputs": [
    {
     "name": "stdout",
     "output_type": "stream",
     "text": [
      "Optimal alpha: 1.0\n"
     ]
    }
   ],
   "source": [
    "# cross validation Ridge\n",
    "from sklearn.linear_model import RidgeCV\n",
    "# Initialize LassoCV with 5-fold cross-validation\n",
    "ridgecv = RidgeCV(cv=5)\n",
    "ridgecv.fit(X_train_scale, y_train)\n",
    "y_pred = ridgecv.predict(X_test_scale)\n",
    "optimal_alpha = ridgecv.alpha_\n",
    "print(\"Optimal alpha:\", optimal_alpha)"
   ]
  },
  {
   "cell_type": "code",
   "execution_count": 99,
   "metadata": {},
   "outputs": [
    {
     "data": {
      "text/plain": [
       "(0.1, 1.0, 10.0)"
      ]
     },
     "execution_count": 99,
     "metadata": {},
     "output_type": "execute_result"
    }
   ],
   "source": [
    "ridgecv.alphas"
   ]
  },
  {
   "cell_type": "code",
   "execution_count": 100,
   "metadata": {},
   "outputs": [
    {
     "data": {
      "text/plain": [
       "{'alpha_per_target': False,\n",
       " 'alphas': (0.1, 1.0, 10.0),\n",
       " 'cv': 5,\n",
       " 'fit_intercept': True,\n",
       " 'gcv_mode': None,\n",
       " 'scoring': None,\n",
       " 'store_cv_results': None,\n",
       " 'store_cv_values': 'deprecated'}"
      ]
     },
     "execution_count": 100,
     "metadata": {},
     "output_type": "execute_result"
    }
   ],
   "source": [
    "ridgecv.get_params()"
   ]
  },
  {
   "cell_type": "code",
   "execution_count": 115,
   "metadata": {},
   "outputs": [
    {
     "name": "stdout",
     "output_type": "stream",
     "text": [
      "Optimal alpha: 0.04311146156383891\n"
     ]
    }
   ],
   "source": [
    "# cross validation ElasticNet\n",
    "from sklearn.linear_model import ElasticNetCV\n",
    "# Initialize LassoCV with 5-fold cross-validation\n",
    "elasticnetcv = ElasticNetCV()\n",
    "elasticnetcv.fit(X_train_scale, y_train)\n",
    "y_pred = elasticnetcv.predict(X_test_scale)\n",
    "optimal_alpha = elasticnetcv.alpha_\n",
    "print(\"Optimal alpha:\", optimal_alpha)"
   ]
  },
  {
   "cell_type": "code",
   "execution_count": 117,
   "metadata": {},
   "outputs": [
    {
     "data": {
      "text/plain": [
       "array([14.11706004, 13.16561744, 12.27829889, 11.45078264, 10.67903821,\n",
       "        9.95930678,  9.28808283,  8.66209714,  8.07830078,  7.53385034,\n",
       "        7.02609405,  6.55255882,  6.11093829,  5.6990815 ,  5.31498248,\n",
       "        4.95677045,  4.62270071,  4.31114616,  4.02058933,  3.74961507,\n",
       "        3.49690356,  3.26122397,  3.04142839,  2.83644629,  2.64527931,\n",
       "        2.46699633,  2.30072904,  2.1456676 ,  2.00105679,  1.86619226,\n",
       "        1.74041714,  1.62311885,  1.51372607,  1.411706  ,  1.31656174,\n",
       "        1.22782989,  1.14507826,  1.06790382,  0.99593068,  0.92880828,\n",
       "        0.86620971,  0.80783008,  0.75338503,  0.7026094 ,  0.65525588,\n",
       "        0.61109383,  0.56990815,  0.53149825,  0.49567705,  0.46227007,\n",
       "        0.43111462,  0.40205893,  0.37496151,  0.34969036,  0.3261224 ,\n",
       "        0.30414284,  0.28364463,  0.26452793,  0.24669963,  0.2300729 ,\n",
       "        0.21456676,  0.20010568,  0.18661923,  0.17404171,  0.16231189,\n",
       "        0.15137261,  0.1411706 ,  0.13165617,  0.12278299,  0.11450783,\n",
       "        0.10679038,  0.09959307,  0.09288083,  0.08662097,  0.08078301,\n",
       "        0.0753385 ,  0.07026094,  0.06552559,  0.06110938,  0.05699082,\n",
       "        0.05314982,  0.0495677 ,  0.04622701,  0.04311146,  0.04020589,\n",
       "        0.03749615,  0.03496904,  0.03261224,  0.03041428,  0.02836446,\n",
       "        0.02645279,  0.02466996,  0.02300729,  0.02145668,  0.02001057,\n",
       "        0.01866192,  0.01740417,  0.01623119,  0.01513726,  0.01411706])"
      ]
     },
     "execution_count": 117,
     "metadata": {},
     "output_type": "execute_result"
    }
   ],
   "source": [
    "elasticnetcv.alphas_"
   ]
  }
 ],
 "metadata": {
  "kernelspec": {
   "display_name": "Python 3",
   "language": "python",
   "name": "python3"
  },
  "language_info": {
   "codemirror_mode": {
    "name": "ipython",
    "version": 3
   },
   "file_extension": ".py",
   "mimetype": "text/x-python",
   "name": "python",
   "nbconvert_exporter": "python",
   "pygments_lexer": "ipython3",
   "version": "3.13.1"
  }
 },
 "nbformat": 4,
 "nbformat_minor": 2
}
