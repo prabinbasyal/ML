{
 "cells": [
  {
   "cell_type": "code",
   "execution_count": 1,
   "metadata": {},
   "outputs": [],
   "source": [
    "#import libraries\n",
    "import numpy as np\n",
    "import matplotlib.pyplot as plt \n",
    "import pandas as pd\n",
    "%matplotlib inline"
   ]
  },
  {
   "cell_type": "code",
   "execution_count": 10,
   "metadata": {},
   "outputs": [],
   "source": [
    "X = 6*np.random.rand(100,1) - 3\n",
    "y = 0.5 * X**2 + 1.5*X + 2 + np.random.randn(100,1)\n"
   ]
  },
  {
   "cell_type": "code",
   "execution_count": 7,
   "metadata": {},
   "outputs": [
    {
     "data": {
      "text/plain": [
       "Text(0, 0.5, 'Y Dataset')"
      ]
     },
     "execution_count": 7,
     "metadata": {},
     "output_type": "execute_result"
    },
    {
     "data": {
      "image/png": "[encoded data removed]",
      "text/plain": [
       "<Figure size 600x400 with 1 Axes>"
      ]
     },
     "metadata": {},
     "output_type": "display_data"
    }
   ],
   "source": [
    "\n",
    "plt.figure(figsize=(6,4))\n",
    "plt.scatter(X, y)   \n",
    "plt.xlabel(\"X Dataset\")\n",
    "plt.ylabel(\"Y Dataset\")"
   ]
  },
  {
   "cell_type": "code",
   "execution_count": 11,
   "metadata": {},
   "outputs": [],
   "source": [
    "# split the data into training and testing sets\n",
    "from sklearn.model_selection import train_test_split\n",
    "X_train, X_test, y_train, y_test = train_test_split(X, y, test_size=0.2, random_state=42)"
   ]
  },
  {
   "cell_type": "code",
   "execution_count": 12,
   "metadata": {},
   "outputs": [],
   "source": [
    "#lets implement the linear regression model\n",
    "from sklearn.linear_model import LinearRegression\n",
    "lin_regression = LinearRegression()"
   ]
  },
  {
   "cell_type": "code",
   "execution_count": 14,
   "metadata": {},
   "outputs": [
    {
     "data": {
      "text/html": [
       "<style>#sk-container-id-2 {\n",
       "  /* Definition of color scheme common for light and dark mode */\n",
       "  --sklearn-color-text: #000;\n",
       "  --sklearn-color-text-muted: #666;\n",
       "  --sklearn-color-line: gray;\n",
       "  /* Definition of color scheme for unfitted estimators */\n",
       "  --sklearn-color-unfitted-level-0: #fff5e6;\n",
       "  --sklearn-color-unfitted-level-1: #f6e4d2;\n",
       "  --sklearn-color-unfitted-level-2: #ffe0b3;\n",
       "  --sklearn-color-unfitted-level-3: chocolate;\n",
       "  /* Definition of color scheme for fitted estimators */\n",
       "  --sklearn-color-fitted-level-0: #f0f8ff;\n",
       "  --sklearn-color-fitted-level-1: #d4ebff;\n",
       "  --sklearn-color-fitted-level-2: #b3dbfd;\n",
       "  --sklearn-color-fitted-level-3: cornflowerblue;\n",
       "\n",
       "  /* Specific color for light theme */\n",
       "  --sklearn-color-text-on-default-background: var(--sg-text-color, var(--theme-code-foreground, var(--jp-content-font-color1, black)));\n",
       "  --sklearn-color-background: var(--sg-background-color, var(--theme-background, var(--jp-layout-color0, white)));\n",
       "  --sklearn-color-border-box: var(--sg-text-color, var(--theme-code-foreground, var(--jp-content-font-color1, black)));\n",
       "  --sklearn-color-icon: #696969;\n",
       "\n",
       "  @media (prefers-color-scheme: dark) {\n",
       "    /* Redefinition of color scheme for dark theme */\n",
       "    --sklearn-color-text-on-default-background: var(--sg-text-color, var(--theme-code-foreground, var(--jp-content-font-color1, white)));\n",
       "    --sklearn-color-background: var(--sg-background-color, var(--theme-background, var(--jp-layout-color0, #111)));\n",
       "    --sklearn-color-border-box: var(--sg-text-color, var(--theme-code-foreground, var(--jp-content-font-color1, white)));\n",
       "    --sklearn-color-icon: #878787;\n",
       "  }\n",
       "}\n",
       "\n",
       "#sk-container-id-2 {\n",
       "  color: var(--sklearn-color-text);\n",
       "}\n",
       "\n",
       "#sk-container-id-2 pre {\n",
       "  padding: 0;\n",
       "}\n",
       "\n",
       "#sk-container-id-2 input.sk-hidden--visually {\n",
       "  border: 0;\n",
       "  clip: rect(1px 1px 1px 1px);\n",
       "  clip: rect(1px, 1px, 1px, 1px);\n",
       "  height: 1px;\n",
       "  margin: -1px;\n",
       "  overflow: hidden;\n",
       "  padding: 0;\n",
       "  position: absolute;\n",
       "  width: 1px;\n",
       "}\n",
       "\n",
       "#sk-container-id-2 div.sk-dashed-wrapped {\n",
       "  border: 1px dashed var(--sklearn-color-line);\n",
       "  margin: 0 0.4em 0.5em 0.4em;\n",
       "  box-sizing: border-box;\n",
       "  padding-bottom: 0.4em;\n",
       "  background-color: var(--sklearn-color-background);\n",
       "}\n",
       "\n",
       "#sk-container-id-2 div.sk-container {\n",
       "  /* jupyter's `normalize.less` sets `[hidden] { display: none; }`\n",
       "     but bootstrap.min.css set `[hidden] { display: none !important; }`\n",
       "     so we also need the `!important` here to be able to override the\n",
       "     default hidden behavior on the sphinx rendered scikit-learn.org.\n",
       "     See: https://github.com/scikit-learn/scikit-learn/issues/21755 */\n",
       "  display: inline-block !important;\n",
       "  position: relative;\n",
       "}\n",
       "\n",
       "#sk-container-id-2 div.sk-text-repr-fallback {\n",
       "  display: none;\n",
       "}\n",
       "\n",
       "div.sk-parallel-item,\n",
       "div.sk-serial,\n",
       "div.sk-item {\n",
       "  /* draw centered vertical line to link estimators */\n",
       "  background-image: linear-gradient(var(--sklearn-color-text-on-default-background), var(--sklearn-color-text-on-default-background));\n",
       "  background-size: 2px 100%;\n",
       "  background-repeat: no-repeat;\n",
       "  background-position: center center;\n",
       "}\n",
       "\n",
       "/* Parallel-specific style estimator block */\n",
       "\n",
       "#sk-container-id-2 div.sk-parallel-item::after {\n",
       "  content: \"\";\n",
       "  width: 100%;\n",
       "  border-bottom: 2px solid var(--sklearn-color-text-on-default-background);\n",
       "  flex-grow: 1;\n",
       "}\n",
       "\n",
       "#sk-container-id-2 div.sk-parallel {\n",
       "  display: flex;\n",
       "  align-items: stretch;\n",
       "  justify-content: center;\n",
       "  background-color: var(--sklearn-color-background);\n",
       "  position: relative;\n",
       "}\n",
       "\n",
       "#sk-container-id-2 div.sk-parallel-item {\n",
       "  display: flex;\n",
       "  flex-direction: column;\n",
       "}\n",
       "\n",
       "#sk-container-id-2 div.sk-parallel-item:first-child::after {\n",
       "  align-self: flex-end;\n",
       "  width: 50%;\n",
       "}\n",
       "\n",
       "#sk-container-id-2 div.sk-parallel-item:last-child::after {\n",
       "  align-self: flex-start;\n",
       "  width: 50%;\n",
       "}\n",
       "\n",
       "#sk-container-id-2 div.sk-parallel-item:only-child::after {\n",
       "  width: 0;\n",
       "}\n",
       "\n",
       "/* Serial-specific style estimator block */\n",
       "\n",
       "#sk-container-id-2 div.sk-serial {\n",
       "  display: flex;\n",
       "  flex-direction: column;\n",
       "  align-items: center;\n",
       "  background-color: var(--sklearn-color-background);\n",
       "  padding-right: 1em;\n",
       "  padding-left: 1em;\n",
       "}\n",
       "\n",
       "\n",
       "/* Toggleable style: style used for estimator/Pipeline/ColumnTransformer box that is\n",
       "clickable and can be expanded/collapsed.\n",
       "- Pipeline and ColumnTransformer use this feature and define the default style\n",
       "- Estimators will overwrite some part of the style using the `sk-estimator` class\n",
       "*/\n",
       "\n",
       "/* Pipeline and ColumnTransformer style (default) */\n",
       "\n",
       "#sk-container-id-2 div.sk-toggleable {\n",
       "  /* Default theme specific background. It is overwritten whether we have a\n",
       "  specific estimator or a Pipeline/ColumnTransformer */\n",
       "  background-color: var(--sklearn-color-background);\n",
       "}\n",
       "\n",
       "/* Toggleable label */\n",
       "#sk-container-id-2 label.sk-toggleable__label {\n",
       "  cursor: pointer;\n",
       "  display: flex;\n",
       "  width: 100%;\n",
       "  margin-bottom: 0;\n",
       "  padding: 0.5em;\n",
       "  box-sizing: border-box;\n",
       "  text-align: center;\n",
       "  align-items: start;\n",
       "  justify-content: space-between;\n",
       "  gap: 0.5em;\n",
       "}\n",
       "\n",
       "#sk-container-id-2 label.sk-toggleable__label .caption {\n",
       "  font-size: 0.6rem;\n",
       "  font-weight: lighter;\n",
       "  color: var(--sklearn-color-text-muted);\n",
       "}\n",
       "\n",
       "#sk-container-id-2 label.sk-toggleable__label-arrow:before {\n",
       "  /* Arrow on the left of the label */\n",
       "  content: \"▸\";\n",
       "  float: left;\n",
       "  margin-right: 0.25em;\n",
       "  color: var(--sklearn-color-icon);\n",
       "}\n",
       "\n",
       "#sk-container-id-2 label.sk-toggleable__label-arrow:hover:before {\n",
       "  color: var(--sklearn-color-text);\n",
       "}\n",
       "\n",
       "/* Toggleable content - dropdown */\n",
       "\n",
       "#sk-container-id-2 div.sk-toggleable__content {\n",
       "  max-height: 0;\n",
       "  max-width: 0;\n",
       "  overflow: hidden;\n",
       "  text-align: left;\n",
       "  /* unfitted */\n",
       "  background-color: var(--sklearn-color-unfitted-level-0);\n",
       "}\n",
       "\n",
       "#sk-container-id-2 div.sk-toggleable__content.fitted {\n",
       "  /* fitted */\n",
       "  background-color: var(--sklearn-color-fitted-level-0);\n",
       "}\n",
       "\n",
       "#sk-container-id-2 div.sk-toggleable__content pre {\n",
       "  margin: 0.2em;\n",
       "  border-radius: 0.25em;\n",
       "  color: var(--sklearn-color-text);\n",
       "  /* unfitted */\n",
       "  background-color: var(--sklearn-color-unfitted-level-0);\n",
       "}\n",
       "\n",
       "#sk-container-id-2 div.sk-toggleable__content.fitted pre {\n",
       "  /* unfitted */\n",
       "  background-color: var(--sklearn-color-fitted-level-0);\n",
       "}\n",
       "\n",
       "#sk-container-id-2 input.sk-toggleable__control:checked~div.sk-toggleable__content {\n",
       "  /* Expand drop-down */\n",
       "  max-height: 200px;\n",
       "  max-width: 100%;\n",
       "  overflow: auto;\n",
       "}\n",
       "\n",
       "#sk-container-id-2 input.sk-toggleable__control:checked~label.sk-toggleable__label-arrow:before {\n",
       "  content: \"▾\";\n",
       "}\n",
       "\n",
       "/* Pipeline/ColumnTransformer-specific style */\n",
       "\n",
       "#sk-container-id-2 div.sk-label input.sk-toggleable__control:checked~label.sk-toggleable__label {\n",
       "  color: var(--sklearn-color-text);\n",
       "  background-color: var(--sklearn-color-unfitted-level-2);\n",
       "}\n",
       "\n",
       "#sk-container-id-2 div.sk-label.fitted input.sk-toggleable__control:checked~label.sk-toggleable__label {\n",
       "  background-color: var(--sklearn-color-fitted-level-2);\n",
       "}\n",
       "\n",
       "/* Estimator-specific style */\n",
       "\n",
       "/* Colorize estimator box */\n",
       "#sk-container-id-2 div.sk-estimator input.sk-toggleable__control:checked~label.sk-toggleable__label {\n",
       "  /* unfitted */\n",
       "  background-color: var(--sklearn-color-unfitted-level-2);\n",
       "}\n",
       "\n",
       "#sk-container-id-2 div.sk-estimator.fitted input.sk-toggleable__control:checked~label.sk-toggleable__label {\n",
       "  /* fitted */\n",
       "  background-color: var(--sklearn-color-fitted-level-2);\n",
       "}\n",
       "\n",
       "#sk-container-id-2 div.sk-label label.sk-toggleable__label,\n",
       "#sk-container-id-2 div.sk-label label {\n",
       "  /* The background is the default theme color */\n",
       "  color: var(--sklearn-color-text-on-default-background);\n",
       "}\n",
       "\n",
       "/* On hover, darken the color of the background */\n",
       "#sk-container-id-2 div.sk-label:hover label.sk-toggleable__label {\n",
       "  color: var(--sklearn-color-text);\n",
       "  background-color: var(--sklearn-color-unfitted-level-2);\n",
       "}\n",
       "\n",
       "/* Label box, darken color on hover, fitted */\n",
       "#sk-container-id-2 div.sk-label.fitted:hover label.sk-toggleable__label.fitted {\n",
       "  color: var(--sklearn-color-text);\n",
       "  background-color: var(--sklearn-color-fitted-level-2);\n",
       "}\n",
       "\n",
       "/* Estimator label */\n",
       "\n",
       "#sk-container-id-2 div.sk-label label {\n",
       "  font-family: monospace;\n",
       "  font-weight: bold;\n",
       "  display: inline-block;\n",
       "  line-height: 1.2em;\n",
       "}\n",
       "\n",
       "#sk-container-id-2 div.sk-label-container {\n",
       "  text-align: center;\n",
       "}\n",
       "\n",
       "/* Estimator-specific */\n",
       "#sk-container-id-2 div.sk-estimator {\n",
       "  font-family: monospace;\n",
       "  border: 1px dotted var(--sklearn-color-border-box);\n",
       "  border-radius: 0.25em;\n",
       "  box-sizing: border-box;\n",
       "  margin-bottom: 0.5em;\n",
       "  /* unfitted */\n",
       "  background-color: var(--sklearn-color-unfitted-level-0);\n",
       "}\n",
       "\n",
       "#sk-container-id-2 div.sk-estimator.fitted {\n",
       "  /* fitted */\n",
       "  background-color: var(--sklearn-color-fitted-level-0);\n",
       "}\n",
       "\n",
       "/* on hover */\n",
       "#sk-container-id-2 div.sk-estimator:hover {\n",
       "  /* unfitted */\n",
       "  background-color: var(--sklearn-color-unfitted-level-2);\n",
       "}\n",
       "\n",
       "#sk-container-id-2 div.sk-estimator.fitted:hover {\n",
       "  /* fitted */\n",
       "  background-color: var(--sklearn-color-fitted-level-2);\n",
       "}\n",
       "\n",
       "/* Specification for estimator info (e.g. \"i\" and \"?\") */\n",
       "\n",
       "/* Common style for \"i\" and \"?\" */\n",
       "\n",
       ".sk-estimator-doc-link,\n",
       "a:link.sk-estimator-doc-link,\n",
       "a:visited.sk-estimator-doc-link {\n",
       "  float: right;\n",
       "  font-size: smaller;\n",
       "  line-height: 1em;\n",
       "  font-family: monospace;\n",
       "  background-color: var(--sklearn-color-background);\n",
       "  border-radius: 1em;\n",
       "  height: 1em;\n",
       "  width: 1em;\n",
       "  text-decoration: none !important;\n",
       "  margin-left: 0.5em;\n",
       "  text-align: center;\n",
       "  /* unfitted */\n",
       "  border: var(--sklearn-color-unfitted-level-1) 1pt solid;\n",
       "  color: var(--sklearn-color-unfitted-level-1);\n",
       "}\n",
       "\n",
       ".sk-estimator-doc-link.fitted,\n",
       "a:link.sk-estimator-doc-link.fitted,\n",
       "a:visited.sk-estimator-doc-link.fitted {\n",
       "  /* fitted */\n",
       "  border: var(--sklearn-color-fitted-level-1) 1pt solid;\n",
       "  color: var(--sklearn-color-fitted-level-1);\n",
       "}\n",
       "\n",
       "/* On hover */\n",
       "div.sk-estimator:hover .sk-estimator-doc-link:hover,\n",
       ".sk-estimator-doc-link:hover,\n",
       "div.sk-label-container:hover .sk-estimator-doc-link:hover,\n",
       ".sk-estimator-doc-link:hover {\n",
       "  /* unfitted */\n",
       "  background-color: var(--sklearn-color-unfitted-level-3);\n",
       "  color: var(--sklearn-color-background);\n",
       "  text-decoration: none;\n",
       "}\n",
       "\n",
       "div.sk-estimator.fitted:hover .sk-estimator-doc-link.fitted:hover,\n",
       ".sk-estimator-doc-link.fitted:hover,\n",
       "div.sk-label-container:hover .sk-estimator-doc-link.fitted:hover,\n",
       ".sk-estimator-doc-link.fitted:hover {\n",
       "  /* fitted */\n",
       "  background-color: var(--sklearn-color-fitted-level-3);\n",
       "  color: var(--sklearn-color-background);\n",
       "  text-decoration: none;\n",
       "}\n",
       "\n",
       "/* Span, style for the box shown on hovering the info icon */\n",
       ".sk-estimator-doc-link span {\n",
       "  display: none;\n",
       "  z-index: 9999;\n",
       "  position: relative;\n",
       "  font-weight: normal;\n",
       "  right: .2ex;\n",
       "  padding: .5ex;\n",
       "  margin: .5ex;\n",
       "  width: min-content;\n",
       "  min-width: 20ex;\n",
       "  max-width: 50ex;\n",
       "  color: var(--sklearn-color-text);\n",
       "  box-shadow: 2pt 2pt 4pt #999;\n",
       "  /* unfitted */\n",
       "  background: var(--sklearn-color-unfitted-level-0);\n",
       "  border: .5pt solid var(--sklearn-color-unfitted-level-3);\n",
       "}\n",
       "\n",
       ".sk-estimator-doc-link.fitted span {\n",
       "  /* fitted */\n",
       "  background: var(--sklearn-color-fitted-level-0);\n",
       "  border: var(--sklearn-color-fitted-level-3);\n",
       "}\n",
       "\n",
       ".sk-estimator-doc-link:hover span {\n",
       "  display: block;\n",
       "}\n",
       "\n",
       "/* \"?\"-specific style due to the `<a>` HTML tag */\n",
       "\n",
       "#sk-container-id-2 a.estimator_doc_link {\n",
       "  float: right;\n",
       "  font-size: 1rem;\n",
       "  line-height: 1em;\n",
       "  font-family: monospace;\n",
       "  background-color: var(--sklearn-color-background);\n",
       "  border-radius: 1rem;\n",
       "  height: 1rem;\n",
       "  width: 1rem;\n",
       "  text-decoration: none;\n",
       "  /* unfitted */\n",
       "  color: var(--sklearn-color-unfitted-level-1);\n",
       "  border: var(--sklearn-color-unfitted-level-1) 1pt solid;\n",
       "}\n",
       "\n",
       "#sk-container-id-2 a.estimator_doc_link.fitted {\n",
       "  /* fitted */\n",
       "  border: var(--sklearn-color-fitted-level-1) 1pt solid;\n",
       "  color: var(--sklearn-color-fitted-level-1);\n",
       "}\n",
       "\n",
       "/* On hover */\n",
       "#sk-container-id-2 a.estimator_doc_link:hover {\n",
       "  /* unfitted */\n",
       "  background-color: var(--sklearn-color-unfitted-level-3);\n",
       "  color: var(--sklearn-color-background);\n",
       "  text-decoration: none;\n",
       "}\n",
       "\n",
       "#sk-container-id-2 a.estimator_doc_link.fitted:hover {\n",
       "  /* fitted */\n",
       "  background-color: var(--sklearn-color-fitted-level-3);\n",
       "}\n",
       "</style><div id=\"sk-container-id-2\" class=\"sk-top-container\"><div class=\"sk-text-repr-fallback\"><pre>LinearRegression()</pre><b>In a Jupyter environment, please rerun this cell to show the HTML representation or trust the notebook. <br />On GitHub, the HTML representation is unable to render, please try loading this page with nbviewer.org.</b></div><div class=\"sk-container\" hidden><div class=\"sk-item\"><div class=\"sk-estimator fitted sk-toggleable\"><input class=\"sk-toggleable__control sk-hidden--visually\" id=\"sk-estimator-id-2\" type=\"checkbox\" checked><label for=\"sk-estimator-id-2\" class=\"sk-toggleable__label fitted sk-toggleable__label-arrow\"><div><div>LinearRegression</div></div><div><a class=\"sk-estimator-doc-link fitted\" rel=\"noreferrer\" target=\"_blank\" href=\"https://scikit-learn.org/1.6/modules/generated/sklearn.linear_model.LinearRegression.html\">?<span>Documentation for LinearRegression</span></a><span class=\"sk-estimator-doc-link fitted\">i<span>Fitted</span></span></div></label><div class=\"sk-toggleable__content fitted\"><pre>LinearRegression()</pre></div> </div></div></div></div>"
      ],
      "text/plain": [
       "LinearRegression()"
      ]
     },
     "execution_count": 14,
     "metadata": {},
     "output_type": "execute_result"
    }
   ],
   "source": [
    "lin_regression.fit(X_train, y_train)"
   ]
  },
  {
   "cell_type": "code",
   "execution_count": 15,
   "metadata": {},
   "outputs": [
    {
     "name": "stdout",
     "output_type": "stream",
     "text": [
      "0.7506215963592254\n"
     ]
    }
   ],
   "source": [
    "from sklearn.metrics import r2_score\n",
    "y_predict = lin_regression.predict(X_test)\n",
    "score = r2_score(y_test, y_predict)\n",
    "print(score)"
   ]
  },
  {
   "cell_type": "code",
   "execution_count": null,
   "metadata": {},
   "outputs": [
    {
     "data": {
      "text/plain": [
       "Text(0, 0.5, 'Y Dataset')"
      ]
     },
     "execution_count": 19,
     "metadata": {},
     "output_type": "execute_result"
    },
    {
     "data": {
      "image/png": "[encoded data removed]",
      "text/plain": [
       "<Figure size 600x400 with 1 Axes>"
      ]
     },
     "metadata": {},
     "output_type": "display_data"
    }
   ],
   "source": [
    "#let visualize this model\n",
    "plt.figure(figsize=(6,4))\n",
    "plt.scatter(X_train,lin_regression.predict(X_train), color='red')\n",
    "plt.scatter(X_train, y_train, color='blue')\n",
    "plt.xlabel(\"X Dataset\")\n",
    "plt.ylabel(\"Y Dataset\")\n",
    "# we get good amount of error in the model"
   ]
  },
  {
   "cell_type": "markdown",
   "metadata": {},
   "source": [
    "# Polynomial Regression for 2 degree"
   ]
  },
  {
   "cell_type": "code",
   "execution_count": 32,
   "metadata": {},
   "outputs": [
    {
     "data": {
      "text/plain": [
       "array([[ 1.00000000e+00, -2.02666266e-01,  4.10736156e-02],\n",
       "       [ 1.00000000e+00, -1.25299087e+00,  1.56998612e+00],\n",
       "       [ 1.00000000e+00,  2.55130881e-02,  6.50917667e-04],\n",
       "       [ 1.00000000e+00,  1.37564477e+00,  1.89239852e+00],\n",
       "       [ 1.00000000e+00, -2.96070567e+00,  8.76577806e+00],\n",
       "       [ 1.00000000e+00, -2.90352276e+00,  8.43044439e+00],\n",
       "       [ 1.00000000e+00,  1.03726020e+00,  1.07590871e+00],\n",
       "       [ 1.00000000e+00,  2.15108854e+00,  4.62718190e+00],\n",
       "       [ 1.00000000e+00,  2.29595563e+00,  5.27141224e+00],\n",
       "       [ 1.00000000e+00, -9.26184286e-01,  8.57817332e-01],\n",
       "       [ 1.00000000e+00,  1.91735691e+00,  3.67625750e+00],\n",
       "       [ 1.00000000e+00,  2.88825304e+00,  8.34200563e+00],\n",
       "       [ 1.00000000e+00,  2.31317388e+00,  5.35077340e+00],\n",
       "       [ 1.00000000e+00, -8.16472200e-01,  6.66626853e-01],\n",
       "       [ 1.00000000e+00, -2.46422946e-02,  6.07242684e-04],\n",
       "       [ 1.00000000e+00,  7.53872580e-01,  5.68323867e-01],\n",
       "       [ 1.00000000e+00, -6.32808620e-01,  4.00446750e-01],\n",
       "       [ 1.00000000e+00, -3.71132223e-02,  1.37739127e-03],\n",
       "       [ 1.00000000e+00, -7.02355166e-01,  4.93302779e-01],\n",
       "       [ 1.00000000e+00,  1.22705645e+00,  1.50566752e+00],\n",
       "       [ 1.00000000e+00,  4.30499418e-01,  1.85329749e-01],\n",
       "       [ 1.00000000e+00, -4.73466726e-01,  2.24170741e-01],\n",
       "       [ 1.00000000e+00,  1.28580454e+00,  1.65329332e+00],\n",
       "       [ 1.00000000e+00, -1.38378108e+00,  1.91485007e+00],\n",
       "       [ 1.00000000e+00, -1.87177557e+00,  3.50354379e+00],\n",
       "       [ 1.00000000e+00,  1.32682016e+00,  1.76045174e+00],\n",
       "       [ 1.00000000e+00,  1.03511456e+00,  1.07146215e+00],\n",
       "       [ 1.00000000e+00,  3.16514702e-01,  1.00181557e-01],\n",
       "       [ 1.00000000e+00, -1.72114000e+00,  2.96232291e+00],\n",
       "       [ 1.00000000e+00, -2.78956559e+00,  7.78167617e+00],\n",
       "       [ 1.00000000e+00,  7.50274456e-02,  5.62911760e-03],\n",
       "       [ 1.00000000e+00,  1.89344111e+00,  3.58511923e+00],\n",
       "       [ 1.00000000e+00, -1.49890760e+00,  2.24672400e+00],\n",
       "       [ 1.00000000e+00, -1.13444638e+00,  1.28696859e+00],\n",
       "       [ 1.00000000e+00, -9.17093863e-01,  8.41061154e-01],\n",
       "       [ 1.00000000e+00,  7.52207135e-01,  5.65815574e-01],\n",
       "       [ 1.00000000e+00, -2.89225181e+00,  8.36512056e+00],\n",
       "       [ 1.00000000e+00, -2.89761048e+00,  8.39614650e+00],\n",
       "       [ 1.00000000e+00, -2.20280373e+00,  4.85234428e+00],\n",
       "       [ 1.00000000e+00,  2.79535111e+00,  7.81398781e+00],\n",
       "       [ 1.00000000e+00, -1.16591926e-01,  1.35936772e-02],\n",
       "       [ 1.00000000e+00,  1.53576291e+00,  2.35856773e+00],\n",
       "       [ 1.00000000e+00, -6.48805214e-02,  4.20948206e-03],\n",
       "       [ 1.00000000e+00,  6.63445694e-02,  4.40160189e-03],\n",
       "       [ 1.00000000e+00,  1.42563977e+00,  2.03244875e+00],\n",
       "       [ 1.00000000e+00, -2.53844253e+00,  6.44369046e+00],\n",
       "       [ 1.00000000e+00, -2.75713827e+00,  7.60181143e+00],\n",
       "       [ 1.00000000e+00, -2.90260117e+00,  8.42509358e+00],\n",
       "       [ 1.00000000e+00, -2.55058726e+00,  6.50549535e+00],\n",
       "       [ 1.00000000e+00, -6.85982754e-01,  4.70572338e-01],\n",
       "       [ 1.00000000e+00, -9.18864696e-01,  8.44312330e-01],\n",
       "       [ 1.00000000e+00,  1.41227393e-01,  1.99451766e-02],\n",
       "       [ 1.00000000e+00,  1.78902537e+00,  3.20061177e+00],\n",
       "       [ 1.00000000e+00,  9.56219654e-01,  9.14356026e-01],\n",
       "       [ 1.00000000e+00, -9.01652381e-01,  8.12977016e-01],\n",
       "       [ 1.00000000e+00, -2.96028206e+00,  8.76326989e+00],\n",
       "       [ 1.00000000e+00,  2.86718895e+00,  8.22077249e+00],\n",
       "       [ 1.00000000e+00,  3.43301277e-01,  1.17855767e-01],\n",
       "       [ 1.00000000e+00, -1.24614542e+00,  1.55287842e+00],\n",
       "       [ 1.00000000e+00,  8.80550167e-01,  7.75368597e-01],\n",
       "       [ 1.00000000e+00,  1.67084331e+00,  2.79171738e+00],\n",
       "       [ 1.00000000e+00,  2.31414322e+00,  5.35525885e+00],\n",
       "       [ 1.00000000e+00,  3.38872481e-01,  1.14834558e-01],\n",
       "       [ 1.00000000e+00, -5.53738599e-01,  3.06626436e-01],\n",
       "       [ 1.00000000e+00,  2.44312335e+00,  5.96885169e+00],\n",
       "       [ 1.00000000e+00, -2.76974765e+00,  7.67150202e+00],\n",
       "       [ 1.00000000e+00, -1.91054770e-01,  3.65019252e-02],\n",
       "       [ 1.00000000e+00, -1.58300460e+00,  2.50590355e+00],\n",
       "       [ 1.00000000e+00,  2.82269054e+00,  7.96758189e+00],\n",
       "       [ 1.00000000e+00,  8.29825662e-01,  6.88610629e-01],\n",
       "       [ 1.00000000e+00,  1.46116266e+00,  2.13499631e+00],\n",
       "       [ 1.00000000e+00,  8.82662230e-02,  7.79092611e-03],\n",
       "       [ 1.00000000e+00, -2.58077894e+00,  6.66041995e+00],\n",
       "       [ 1.00000000e+00, -9.02080198e-01,  8.13748684e-01],\n",
       "       [ 1.00000000e+00,  1.48713355e+00,  2.21156621e+00],\n",
       "       [ 1.00000000e+00, -7.02355098e-01,  4.93302684e-01],\n",
       "       [ 1.00000000e+00, -9.85464957e-01,  9.71141181e-01],\n",
       "       [ 1.00000000e+00, -2.88520911e+00,  8.32443159e+00],\n",
       "       [ 1.00000000e+00,  1.24643455e+00,  1.55359909e+00],\n",
       "       [ 1.00000000e+00,  2.69824101e+00,  7.28050456e+00]])"
      ]
     },
     "execution_count": 32,
     "metadata": {},
     "output_type": "execute_result"
    }
   ],
   "source": [
    "# so we use PolynomialFeatures to transform our input data (let's use polymonial of degree 2)\n",
    "from sklearn.preprocessing import PolynomialFeatures\n",
    "poly_features = PolynomialFeatures(degree=2, include_bias=True)\n",
    "x_train_poly = poly_features.fit_transform(X_train)\n",
    "X_test_poly = poly_features.transform(X_test)\n",
    "x_train_poly\n"
   ]
  },
  {
   "cell_type": "code",
   "execution_count": 33,
   "metadata": {},
   "outputs": [
    {
     "name": "stdout",
     "output_type": "stream",
     "text": [
      "0.7969930463893038\n"
     ]
    }
   ],
   "source": [
    "# so now use the linear regression model\n",
    "regression = LinearRegression()\n",
    "regression.fit(x_train_poly, y_train)\n",
    "y_predict1 = regression.predict(X_test_poly)\n",
    "score1 = r2_score(y_test, y_predict1)\n",
    "print(score1)"
   ]
  },
  {
   "cell_type": "code",
   "execution_count": 25,
   "metadata": {},
   "outputs": [
    {
     "name": "stdout",
     "output_type": "stream",
     "text": [
      "[[0.         1.57009918 0.48398293]] [1.9701185]\n"
     ]
    }
   ],
   "source": [
    "print(regression.coef_, regression.intercept_)"
   ]
  },
  {
   "cell_type": "code",
   "execution_count": 28,
   "metadata": {},
   "outputs": [
    {
     "data": {
      "text/plain": [
       "<matplotlib.collections.PathCollection at 0x1d1bc3e47d0>"
      ]
     },
     "execution_count": 28,
     "metadata": {},
     "output_type": "execute_result"
    },
    {
     "data": {
      "image/png": "[encoded data removed]",
      "text/plain": [
       "<Figure size 600x400 with 1 Axes>"
      ]
     },
     "metadata": {},
     "output_type": "display_data"
    }
   ],
   "source": [
    "#let visualize this model\n",
    "plt.figure(figsize=(6,4))\n",
    "plt.scatter(X_train,regression.predict(x_train_poly), color='red')\n",
    "plt.scatter(X_train, y_train, color='blue')"
   ]
  },
  {
   "cell_type": "markdown",
   "metadata": {},
   "source": [
    "# Polynomial regression for degree 3"
   ]
  },
  {
   "cell_type": "code",
   "execution_count": 31,
   "metadata": {},
   "outputs": [
    {
     "data": {
      "text/plain": [
       "array([[ 1.00000000e+00, -2.02666266e-01,  4.10736156e-02,\n",
       "        -8.32423632e-03],\n",
       "       [ 1.00000000e+00, -1.25299087e+00,  1.56998612e+00,\n",
       "        -1.96717828e+00],\n",
       "       [ 1.00000000e+00,  2.55130881e-02,  6.50917667e-04,\n",
       "         1.66069198e-05],\n",
       "       [ 1.00000000e+00,  1.37564477e+00,  1.89239852e+00,\n",
       "         2.60326812e+00],\n",
       "       [ 1.00000000e+00, -2.96070567e+00,  8.76577806e+00,\n",
       "        -2.59528888e+01],\n",
       "       [ 1.00000000e+00, -2.90352276e+00,  8.43044439e+00,\n",
       "        -2.44779871e+01],\n",
       "       [ 1.00000000e+00,  1.03726020e+00,  1.07590871e+00,\n",
       "         1.11599728e+00],\n",
       "       [ 1.00000000e+00,  2.15108854e+00,  4.62718190e+00,\n",
       "         9.95347796e+00],\n",
       "       [ 1.00000000e+00,  2.29595563e+00,  5.27141224e+00,\n",
       "         1.21029286e+01],\n",
       "       [ 1.00000000e+00, -9.26184286e-01,  8.57817332e-01,\n",
       "        -7.94496933e-01],\n",
       "       [ 1.00000000e+00,  1.91735691e+00,  3.67625750e+00,\n",
       "         7.04869771e+00],\n",
       "       [ 1.00000000e+00,  2.88825304e+00,  8.34200563e+00,\n",
       "         2.40938231e+01],\n",
       "       [ 1.00000000e+00,  2.31317388e+00,  5.35077340e+00,\n",
       "         1.23772693e+01],\n",
       "       [ 1.00000000e+00, -8.16472200e-01,  6.66626853e-01,\n",
       "        -5.44282293e-01],\n",
       "       [ 1.00000000e+00, -2.46422946e-02,  6.07242684e-04,\n",
       "        -1.49638531e-05],\n",
       "       [ 1.00000000e+00,  7.53872580e-01,  5.68323867e-01,\n",
       "         4.28443780e-01],\n",
       "       [ 1.00000000e+00, -6.32808620e-01,  4.00446750e-01,\n",
       "        -2.53406156e-01],\n",
       "       [ 1.00000000e+00, -3.71132223e-02,  1.37739127e-03,\n",
       "        -5.11194284e-05],\n",
       "       [ 1.00000000e+00, -7.02355166e-01,  4.93302779e-01,\n",
       "        -3.46473755e-01],\n",
       "       [ 1.00000000e+00,  1.22705645e+00,  1.50566752e+00,\n",
       "         1.84753904e+00],\n",
       "       [ 1.00000000e+00,  4.30499418e-01,  1.85329749e-01,\n",
       "         7.97843490e-02],\n",
       "       [ 1.00000000e+00, -4.73466726e-01,  2.24170741e-01,\n",
       "        -1.06137387e-01],\n",
       "       [ 1.00000000e+00,  1.28580454e+00,  1.65329332e+00,\n",
       "         2.12581206e+00],\n",
       "       [ 1.00000000e+00, -1.38378108e+00,  1.91485007e+00,\n",
       "        -2.64973329e+00],\n",
       "       [ 1.00000000e+00, -1.87177557e+00,  3.50354379e+00,\n",
       "        -6.55784768e+00],\n",
       "       [ 1.00000000e+00,  1.32682016e+00,  1.76045174e+00,\n",
       "         2.33580285e+00],\n",
       "       [ 1.00000000e+00,  1.03511456e+00,  1.07146215e+00,\n",
       "         1.10908607e+00],\n",
       "       [ 1.00000000e+00,  3.16514702e-01,  1.00181557e-01,\n",
       "         3.17089356e-02],\n",
       "       [ 1.00000000e+00, -1.72114000e+00,  2.96232291e+00,\n",
       "        -5.09857246e+00],\n",
       "       [ 1.00000000e+00, -2.78956559e+00,  7.78167617e+00,\n",
       "        -2.17074961e+01],\n",
       "       [ 1.00000000e+00,  7.50274456e-02,  5.62911760e-03,\n",
       "         4.22338314e-04],\n",
       "       [ 1.00000000e+00,  1.89344111e+00,  3.58511923e+00,\n",
       "         6.78821212e+00],\n",
       "       [ 1.00000000e+00, -1.49890760e+00,  2.24672400e+00,\n",
       "        -3.36763169e+00],\n",
       "       [ 1.00000000e+00, -1.13444638e+00,  1.28696859e+00,\n",
       "        -1.45999685e+00],\n",
       "       [ 1.00000000e+00, -9.17093863e-01,  8.41061154e-01,\n",
       "        -7.71332023e-01],\n",
       "       [ 1.00000000e+00,  7.52207135e-01,  5.65815574e-01,\n",
       "         4.25610512e-01],\n",
       "       [ 1.00000000e+00, -2.89225181e+00,  8.36512056e+00,\n",
       "        -2.41940351e+01],\n",
       "       [ 1.00000000e+00, -2.89761048e+00,  8.39614650e+00,\n",
       "        -2.43287621e+01],\n",
       "       [ 1.00000000e+00, -2.20280373e+00,  4.85234428e+00,\n",
       "        -1.06887621e+01],\n",
       "       [ 1.00000000e+00,  2.79535111e+00,  7.81398781e+00,\n",
       "         2.18428395e+01],\n",
       "       [ 1.00000000e+00, -1.16591926e-01,  1.35936772e-02,\n",
       "        -1.58491301e-03],\n",
       "       [ 1.00000000e+00,  1.53576291e+00,  2.35856773e+00,\n",
       "         3.62220084e+00],\n",
       "       [ 1.00000000e+00, -6.48805214e-02,  4.20948206e-03,\n",
       "        -2.73113390e-04],\n",
       "       [ 1.00000000e+00,  6.63445694e-02,  4.40160189e-03,\n",
       "         2.92022382e-04],\n",
       "       [ 1.00000000e+00,  1.42563977e+00,  2.03244875e+00,\n",
       "         2.89753977e+00],\n",
       "       [ 1.00000000e+00, -2.53844253e+00,  6.44369046e+00,\n",
       "        -1.63569379e+01],\n",
       "       [ 1.00000000e+00, -2.75713827e+00,  7.60181143e+00,\n",
       "        -2.09592452e+01],\n",
       "       [ 1.00000000e+00, -2.90260117e+00,  8.42509358e+00,\n",
       "        -2.44546865e+01],\n",
       "       [ 1.00000000e+00, -2.55058726e+00,  6.50549535e+00,\n",
       "        -1.65928335e+01],\n",
       "       [ 1.00000000e+00, -6.85982754e-01,  4.70572338e-01,\n",
       "        -3.22804509e-01],\n",
       "       [ 1.00000000e+00, -9.18864696e-01,  8.44312330e-01,\n",
       "        -7.75808793e-01],\n",
       "       [ 1.00000000e+00,  1.41227393e-01,  1.99451766e-02,\n",
       "         2.81680529e-03],\n",
       "       [ 1.00000000e+00,  1.78902537e+00,  3.20061177e+00,\n",
       "         5.72597566e+00],\n",
       "       [ 1.00000000e+00,  9.56219654e-01,  9.14356026e-01,\n",
       "         8.74325203e-01],\n",
       "       [ 1.00000000e+00, -9.01652381e-01,  8.12977016e-01,\n",
       "        -7.33022662e-01],\n",
       "       [ 1.00000000e+00, -2.96028206e+00,  8.76326989e+00,\n",
       "        -2.59417507e+01],\n",
       "       [ 1.00000000e+00,  2.86718895e+00,  8.22077249e+00,\n",
       "         2.35705081e+01],\n",
       "       [ 1.00000000e+00,  3.43301277e-01,  1.17855767e-01,\n",
       "         4.04600354e-02],\n",
       "       [ 1.00000000e+00, -1.24614542e+00,  1.55287842e+00,\n",
       "        -1.93511233e+00],\n",
       "       [ 1.00000000e+00,  8.80550167e-01,  7.75368597e-01,\n",
       "         6.82750947e-01],\n",
       "       [ 1.00000000e+00,  1.67084331e+00,  2.79171738e+00,\n",
       "         4.66452231e+00],\n",
       "       [ 1.00000000e+00,  2.31414322e+00,  5.35525885e+00,\n",
       "         1.23928360e+01],\n",
       "       [ 1.00000000e+00,  3.38872481e-01,  1.14834558e-01,\n",
       "         3.89142717e-02],\n",
       "       [ 1.00000000e+00, -5.53738599e-01,  3.06626436e-01,\n",
       "        -1.69790893e-01],\n",
       "       [ 1.00000000e+00,  2.44312335e+00,  5.96885169e+00,\n",
       "         1.45826409e+01],\n",
       "       [ 1.00000000e+00, -2.76974765e+00,  7.67150202e+00,\n",
       "        -2.12481247e+01],\n",
       "       [ 1.00000000e+00, -1.91054770e-01,  3.65019252e-02,\n",
       "        -6.97386693e-03],\n",
       "       [ 1.00000000e+00, -1.58300460e+00,  2.50590355e+00,\n",
       "        -3.96685684e+00],\n",
       "       [ 1.00000000e+00,  2.82269054e+00,  7.96758189e+00,\n",
       "         2.24900180e+01],\n",
       "       [ 1.00000000e+00,  8.29825662e-01,  6.88610629e-01,\n",
       "         5.71426770e-01],\n",
       "       [ 1.00000000e+00,  1.46116266e+00,  2.13499631e+00,\n",
       "         3.11957688e+00],\n",
       "       [ 1.00000000e+00,  8.82662230e-02,  7.79092611e-03,\n",
       "         6.87675621e-04],\n",
       "       [ 1.00000000e+00, -2.58077894e+00,  6.66041995e+00,\n",
       "        -1.71890715e+01],\n",
       "       [ 1.00000000e+00, -9.02080198e-01,  8.13748684e-01,\n",
       "        -7.34066574e-01],\n",
       "       [ 1.00000000e+00,  1.48713355e+00,  2.21156621e+00,\n",
       "         3.28889432e+00],\n",
       "       [ 1.00000000e+00, -7.02355098e-01,  4.93302684e-01,\n",
       "        -3.46473655e-01],\n",
       "       [ 1.00000000e+00, -9.85464957e-01,  9.71141181e-01,\n",
       "        -9.57025601e-01],\n",
       "       [ 1.00000000e+00, -2.88520911e+00,  8.32443159e+00,\n",
       "        -2.40177258e+01],\n",
       "       [ 1.00000000e+00,  1.24643455e+00,  1.55359909e+00,\n",
       "         1.93645959e+00],\n",
       "       [ 1.00000000e+00,  2.69824101e+00,  7.28050456e+00,\n",
       "         1.96445560e+01]])"
      ]
     },
     "execution_count": 31,
     "metadata": {},
     "output_type": "execute_result"
    }
   ],
   "source": [
    "from sklearn.preprocessing import PolynomialFeatures\n",
    "poly_features = PolynomialFeatures(degree=3, include_bias=True)\n",
    "x_train_poly1 = poly_features.fit_transform(X_train)\n",
    "X_test_poly1 = poly_features.transform(X_test)\n",
    "x_train_poly1"
   ]
  },
  {
   "cell_type": "code",
   "execution_count": 27,
   "metadata": {},
   "outputs": [
    {
     "name": "stdout",
     "output_type": "stream",
     "text": [
      "0.7859087593153433\n"
     ]
    }
   ],
   "source": [
    "# so now use the linear regression model\n",
    "regression1 = LinearRegression()\n",
    "regression1.fit(x_train_poly1, y_train)\n",
    "y_predict2 = regression1.predict(X_test_poly1)\n",
    "score2 = r2_score(y_test, y_predict2)\n",
    "print(score2)"
   ]
  },
  {
   "cell_type": "code",
   "execution_count": 30,
   "metadata": {},
   "outputs": [
    {
     "data": {
      "text/plain": [
       "<matplotlib.collections.PathCollection at 0x1d1be8de990>"
      ]
     },
     "execution_count": 30,
     "metadata": {},
     "output_type": "execute_result"
    },
    {
     "data": {
      "image/png": "[encoded data removed]",
      "text/plain": [
       "<Figure size 600x400 with 1 Axes>"
      ]
     },
     "metadata": {},
     "output_type": "display_data"
    }
   ],
   "source": [
    "#let visualize this model\n",
    "plt.figure(figsize=(6,4))\n",
    "plt.scatter(X_train,regression1.predict(x_train_poly1), color='red')\n",
    "plt.scatter(X_train, y_train, color='blue')"
   ]
  },
  {
   "cell_type": "markdown",
   "metadata": {},
   "source": [
    "# Prediction of new dataset"
   ]
  },
  {
   "cell_type": "code",
   "execution_count": 36,
   "metadata": {},
   "outputs": [],
   "source": [
    "X_new=np.linspace(-3, 3, 200).reshape(200,1)\n",
    "X_new_poly = poly_features.transform(X_new)\n",
    "y_new = regression.predict(X_new_poly)\n"
   ]
  },
  {
   "cell_type": "code",
   "execution_count": 41,
   "metadata": {},
   "outputs": [
    {
     "data": {
      "text/plain": [
       "<matplotlib.legend.Legend at 0x1d1bf9cd1d0>"
      ]
     },
     "execution_count": 41,
     "metadata": {},
     "output_type": "execute_result"
    },
    {
     "data": {
      "image/png": "[encoded data removed]",
      "text/plain": [
       "<Figure size 600x400 with 1 Axes>"
      ]
     },
     "metadata": {},
     "output_type": "display_data"
    }
   ],
   "source": [
    "plt.figure(figsize=(6,4))\n",
    "plt.plot(X_new, y_new, \"r-\", linewidth=2, label=\"Predictions\")\n",
    "plt.plot(X_train, y_train, \"b.\", linewidth=3, label=\"Training Data\")\n",
    "plt.plot(X_test, y_test, \"g.\", linewidth=3, label=\"Testing Data\")\n",
    "plt.xlabel(\"X Dataset\")\n",
    "plt.ylabel(\"Y Dataset\")\n",
    "plt.legend()"
   ]
  },
  {
   "cell_type": "markdown",
   "metadata": {},
   "source": [
    "# Pipeline in Polynomial"
   ]
  },
  {
   "cell_type": "code",
   "execution_count": 52,
   "metadata": {},
   "outputs": [],
   "source": [
    "from sklearn.pipeline import Pipeline\n",
    "def polynomial_regression(degree):\n",
    "    X_new=np.linspace(-3, 3, 200).reshape(200,1)\n",
    "    poly_features = PolynomialFeatures(degree=degree, include_bias=False)\n",
    "    lin_regression = LinearRegression()\n",
    "    poly_regression = Pipeline([\n",
    "        (\"poly_features\", poly_features), \n",
    "        (\"lin_regression\", lin_regression)\n",
    "        ])\n",
    "    poly_regression.fit(X_train, y_train) # first polynomial features and fit linear regression\n",
    "    y_pred_new = poly_regression.predict(X_new)\n",
    "    # plotting prediction line\n",
    "    plt.figure(figsize=(6,4))\n",
    "    plt.plot(X_new, y_pred_new, \"r-\", linewidth=2, label=\"Predictions\")\n",
    "    plt.plot(X_train, y_train, \"b.\", linewidth=3, label=\"Training Data\")\n",
    "    plt.plot(X_test, y_test, \"g.\", linewidth=3, label=\"Testing Data\")\n",
    "    plt.xlabel(\"X Dataset\") \n",
    "    plt.ylabel(\"Y Dataset\")\n",
    "    plt.legend()\n",
    "    plt.title(\"Polynomial Regression with degree \"+str(degree))\n",
    "    plt.show()\n"
   ]
  },
  {
   "cell_type": "code",
   "execution_count": 51,
   "metadata": {},
   "outputs": [
    {
     "data": {
      "image/png": "[encoded data removed]",
      "text/plain": [
       "<Figure size 600x400 with 1 Axes>"
      ]
     },
     "metadata": {},
     "output_type": "display_data"
    }
   ],
   "source": [
    "polynomial_regression(3)"
   ]
  }
 ],
 "metadata": {
  "kernelspec": {
   "display_name": "Python 3",
   "language": "python",
   "name": "python3"
  },
  "language_info": {
   "codemirror_mode": {
    "name": "ipython",
    "version": 3
   },
   "file_extension": ".py",
   "mimetype": "text/x-python",
   "name": "python",
   "nbconvert_exporter": "python",
   "pygments_lexer": "ipython3",
   "version": "3.13.1"
  }
 },
 "nbformat": 4,
 "nbformat_minor": 2
}
